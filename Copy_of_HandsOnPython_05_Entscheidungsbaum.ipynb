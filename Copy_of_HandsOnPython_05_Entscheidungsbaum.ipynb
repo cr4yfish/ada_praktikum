{
  "cells": [
    {
      "cell_type": "markdown",
      "metadata": {
        "id": "view-in-github",
        "colab_type": "text"
      },
      "source": [
        "<a href=\"https://colab.research.google.com/github/cr4yfish/ada_praktikum/blob/main/Copy_of_HandsOnPython_05_Entscheidungsbaum.ipynb\" target=\"_parent\"><img src=\"https://colab.research.google.com/assets/colab-badge.svg\" alt=\"Open In Colab\"/></a>"
      ]
    },
    {
      "cell_type": "markdown",
      "metadata": {
        "id": "WP5lilNxPUXd"
      },
      "source": [
        "### Erstellen eines Prognosemodells für den Energieverbrauch\n",
        "\n",
        "\n",
        "Dieses Notebook zeigt\n",
        "- wie man mithilfe eines Entscheidungsbaums ein Vorhersagemodell für den Energieverbrauch erstellen kann\n",
        "- wie man die Modell-Performance bewerten kann\n",
        "- wie man die Modell-Performance optimieren kann (Hyperparameteroptimierung)"
      ]
    },
    {
      "cell_type": "code",
      "execution_count": null,
      "metadata": {
        "id": "bzf7QuIEPUXr"
      },
      "outputs": [],
      "source": [
        "### Bibliotheken einbinden\n",
        "\n",
        "## Datenanalyse\n",
        "import pandas as pd\n",
        "import numpy as np\n",
        "\n",
        "## Plotten\n",
        "import matplotlib.pyplot as plt\n",
        "# zeige Plots in Zellen des Notebooks an\n",
        "%matplotlib inline\n",
        "import seaborn as sns\n",
        "# setze seaborn style defaults und Default-Wert für Plotgröße\n",
        "sns.set(rc={'figure.figsize':(20, 10)})\n",
        "\n",
        "## Maschinelles Lernen\n",
        "from sklearn.tree import DecisionTreeRegressor, plot_tree\n",
        "from sklearn.tree import export_text\n",
        "from sklearn import tree\n",
        "from sklearn.metrics import mean_absolute_error, mean_squared_error"
      ]
    },
    {
      "cell_type": "code",
      "source": [
        "# Google Drive mounten\n",
        "from google.colab import drive\n",
        "drive.mount('/content/drive', force_remount=True)"
      ],
      "metadata": {
        "id": "MaPKqauxQCbE",
        "outputId": "76e56320-f475-4eb6-f34f-a2875171c5ed",
        "colab": {
          "base_uri": "https://localhost:8080/"
        }
      },
      "execution_count": null,
      "outputs": [
        {
          "output_type": "stream",
          "name": "stdout",
          "text": [
            "Mounted at /content/drive\n"
          ]
        }
      ]
    },
    {
      "cell_type": "markdown",
      "metadata": {
        "id": "nnbMA2yDPUXw"
      },
      "source": [
        "## Aufgabe 1\n",
        "Lesen Sie den Datensatz Energieverbrauch.csv ein und geben Sie sich die ersten Spalten aus."
      ]
    },
    {
      "cell_type": "code",
      "execution_count": null,
      "metadata": {
        "id": "LvHjZMUaPUXy",
        "outputId": "cb5ba2fc-d042-4349-bedf-0802baf25ea1",
        "colab": {
          "base_uri": "https://localhost:8080/",
          "height": 206
        }
      },
      "outputs": [
        {
          "output_type": "execute_result",
          "data": {
            "text/plain": [
              "         Date  Consumption\n",
              "0  2012-01-01      948.128\n",
              "1  2012-01-02     1269.581\n",
              "2  2012-01-03     1334.745\n",
              "3  2012-01-04     1347.136\n",
              "4  2012-01-05     1376.658"
            ],
            "text/html": [
              "\n",
              "  <div id=\"df-a4ae0047-088f-4697-973b-3485f344b6eb\" class=\"colab-df-container\">\n",
              "    <div>\n",
              "<style scoped>\n",
              "    .dataframe tbody tr th:only-of-type {\n",
              "        vertical-align: middle;\n",
              "    }\n",
              "\n",
              "    .dataframe tbody tr th {\n",
              "        vertical-align: top;\n",
              "    }\n",
              "\n",
              "    .dataframe thead th {\n",
              "        text-align: right;\n",
              "    }\n",
              "</style>\n",
              "<table border=\"1\" class=\"dataframe\">\n",
              "  <thead>\n",
              "    <tr style=\"text-align: right;\">\n",
              "      <th></th>\n",
              "      <th>Date</th>\n",
              "      <th>Consumption</th>\n",
              "    </tr>\n",
              "  </thead>\n",
              "  <tbody>\n",
              "    <tr>\n",
              "      <th>0</th>\n",
              "      <td>2012-01-01</td>\n",
              "      <td>948.128</td>\n",
              "    </tr>\n",
              "    <tr>\n",
              "      <th>1</th>\n",
              "      <td>2012-01-02</td>\n",
              "      <td>1269.581</td>\n",
              "    </tr>\n",
              "    <tr>\n",
              "      <th>2</th>\n",
              "      <td>2012-01-03</td>\n",
              "      <td>1334.745</td>\n",
              "    </tr>\n",
              "    <tr>\n",
              "      <th>3</th>\n",
              "      <td>2012-01-04</td>\n",
              "      <td>1347.136</td>\n",
              "    </tr>\n",
              "    <tr>\n",
              "      <th>4</th>\n",
              "      <td>2012-01-05</td>\n",
              "      <td>1376.658</td>\n",
              "    </tr>\n",
              "  </tbody>\n",
              "</table>\n",
              "</div>\n",
              "    <div class=\"colab-df-buttons\">\n",
              "\n",
              "  <div class=\"colab-df-container\">\n",
              "    <button class=\"colab-df-convert\" onclick=\"convertToInteractive('df-a4ae0047-088f-4697-973b-3485f344b6eb')\"\n",
              "            title=\"Convert this dataframe to an interactive table.\"\n",
              "            style=\"display:none;\">\n",
              "\n",
              "  <svg xmlns=\"http://www.w3.org/2000/svg\" height=\"24px\" viewBox=\"0 -960 960 960\">\n",
              "    <path d=\"M120-120v-720h720v720H120Zm60-500h600v-160H180v160Zm220 220h160v-160H400v160Zm0 220h160v-160H400v160ZM180-400h160v-160H180v160Zm440 0h160v-160H620v160ZM180-180h160v-160H180v160Zm440 0h160v-160H620v160Z\"/>\n",
              "  </svg>\n",
              "    </button>\n",
              "\n",
              "  <style>\n",
              "    .colab-df-container {\n",
              "      display:flex;\n",
              "      gap: 12px;\n",
              "    }\n",
              "\n",
              "    .colab-df-convert {\n",
              "      background-color: #E8F0FE;\n",
              "      border: none;\n",
              "      border-radius: 50%;\n",
              "      cursor: pointer;\n",
              "      display: none;\n",
              "      fill: #1967D2;\n",
              "      height: 32px;\n",
              "      padding: 0 0 0 0;\n",
              "      width: 32px;\n",
              "    }\n",
              "\n",
              "    .colab-df-convert:hover {\n",
              "      background-color: #E2EBFA;\n",
              "      box-shadow: 0px 1px 2px rgba(60, 64, 67, 0.3), 0px 1px 3px 1px rgba(60, 64, 67, 0.15);\n",
              "      fill: #174EA6;\n",
              "    }\n",
              "\n",
              "    .colab-df-buttons div {\n",
              "      margin-bottom: 4px;\n",
              "    }\n",
              "\n",
              "    [theme=dark] .colab-df-convert {\n",
              "      background-color: #3B4455;\n",
              "      fill: #D2E3FC;\n",
              "    }\n",
              "\n",
              "    [theme=dark] .colab-df-convert:hover {\n",
              "      background-color: #434B5C;\n",
              "      box-shadow: 0px 1px 3px 1px rgba(0, 0, 0, 0.15);\n",
              "      filter: drop-shadow(0px 1px 2px rgba(0, 0, 0, 0.3));\n",
              "      fill: #FFFFFF;\n",
              "    }\n",
              "  </style>\n",
              "\n",
              "    <script>\n",
              "      const buttonEl =\n",
              "        document.querySelector('#df-a4ae0047-088f-4697-973b-3485f344b6eb button.colab-df-convert');\n",
              "      buttonEl.style.display =\n",
              "        google.colab.kernel.accessAllowed ? 'block' : 'none';\n",
              "\n",
              "      async function convertToInteractive(key) {\n",
              "        const element = document.querySelector('#df-a4ae0047-088f-4697-973b-3485f344b6eb');\n",
              "        const dataTable =\n",
              "          await google.colab.kernel.invokeFunction('convertToInteractive',\n",
              "                                                    [key], {});\n",
              "        if (!dataTable) return;\n",
              "\n",
              "        const docLinkHtml = 'Like what you see? Visit the ' +\n",
              "          '<a target=\"_blank\" href=https://colab.research.google.com/notebooks/data_table.ipynb>data table notebook</a>'\n",
              "          + ' to learn more about interactive tables.';\n",
              "        element.innerHTML = '';\n",
              "        dataTable['output_type'] = 'display_data';\n",
              "        await google.colab.output.renderOutput(dataTable, element);\n",
              "        const docLink = document.createElement('div');\n",
              "        docLink.innerHTML = docLinkHtml;\n",
              "        element.appendChild(docLink);\n",
              "      }\n",
              "    </script>\n",
              "  </div>\n",
              "\n",
              "\n",
              "<div id=\"df-d4bf7f07-1949-46a5-83cd-15fbef451eba\">\n",
              "  <button class=\"colab-df-quickchart\" onclick=\"quickchart('df-d4bf7f07-1949-46a5-83cd-15fbef451eba')\"\n",
              "            title=\"Suggest charts\"\n",
              "            style=\"display:none;\">\n",
              "\n",
              "<svg xmlns=\"http://www.w3.org/2000/svg\" height=\"24px\"viewBox=\"0 0 24 24\"\n",
              "     width=\"24px\">\n",
              "    <g>\n",
              "        <path d=\"M19 3H5c-1.1 0-2 .9-2 2v14c0 1.1.9 2 2 2h14c1.1 0 2-.9 2-2V5c0-1.1-.9-2-2-2zM9 17H7v-7h2v7zm4 0h-2V7h2v10zm4 0h-2v-4h2v4z\"/>\n",
              "    </g>\n",
              "</svg>\n",
              "  </button>\n",
              "\n",
              "<style>\n",
              "  .colab-df-quickchart {\n",
              "      --bg-color: #E8F0FE;\n",
              "      --fill-color: #1967D2;\n",
              "      --hover-bg-color: #E2EBFA;\n",
              "      --hover-fill-color: #174EA6;\n",
              "      --disabled-fill-color: #AAA;\n",
              "      --disabled-bg-color: #DDD;\n",
              "  }\n",
              "\n",
              "  [theme=dark] .colab-df-quickchart {\n",
              "      --bg-color: #3B4455;\n",
              "      --fill-color: #D2E3FC;\n",
              "      --hover-bg-color: #434B5C;\n",
              "      --hover-fill-color: #FFFFFF;\n",
              "      --disabled-bg-color: #3B4455;\n",
              "      --disabled-fill-color: #666;\n",
              "  }\n",
              "\n",
              "  .colab-df-quickchart {\n",
              "    background-color: var(--bg-color);\n",
              "    border: none;\n",
              "    border-radius: 50%;\n",
              "    cursor: pointer;\n",
              "    display: none;\n",
              "    fill: var(--fill-color);\n",
              "    height: 32px;\n",
              "    padding: 0;\n",
              "    width: 32px;\n",
              "  }\n",
              "\n",
              "  .colab-df-quickchart:hover {\n",
              "    background-color: var(--hover-bg-color);\n",
              "    box-shadow: 0 1px 2px rgba(60, 64, 67, 0.3), 0 1px 3px 1px rgba(60, 64, 67, 0.15);\n",
              "    fill: var(--button-hover-fill-color);\n",
              "  }\n",
              "\n",
              "  .colab-df-quickchart-complete:disabled,\n",
              "  .colab-df-quickchart-complete:disabled:hover {\n",
              "    background-color: var(--disabled-bg-color);\n",
              "    fill: var(--disabled-fill-color);\n",
              "    box-shadow: none;\n",
              "  }\n",
              "\n",
              "  .colab-df-spinner {\n",
              "    border: 2px solid var(--fill-color);\n",
              "    border-color: transparent;\n",
              "    border-bottom-color: var(--fill-color);\n",
              "    animation:\n",
              "      spin 1s steps(1) infinite;\n",
              "  }\n",
              "\n",
              "  @keyframes spin {\n",
              "    0% {\n",
              "      border-color: transparent;\n",
              "      border-bottom-color: var(--fill-color);\n",
              "      border-left-color: var(--fill-color);\n",
              "    }\n",
              "    20% {\n",
              "      border-color: transparent;\n",
              "      border-left-color: var(--fill-color);\n",
              "      border-top-color: var(--fill-color);\n",
              "    }\n",
              "    30% {\n",
              "      border-color: transparent;\n",
              "      border-left-color: var(--fill-color);\n",
              "      border-top-color: var(--fill-color);\n",
              "      border-right-color: var(--fill-color);\n",
              "    }\n",
              "    40% {\n",
              "      border-color: transparent;\n",
              "      border-right-color: var(--fill-color);\n",
              "      border-top-color: var(--fill-color);\n",
              "    }\n",
              "    60% {\n",
              "      border-color: transparent;\n",
              "      border-right-color: var(--fill-color);\n",
              "    }\n",
              "    80% {\n",
              "      border-color: transparent;\n",
              "      border-right-color: var(--fill-color);\n",
              "      border-bottom-color: var(--fill-color);\n",
              "    }\n",
              "    90% {\n",
              "      border-color: transparent;\n",
              "      border-bottom-color: var(--fill-color);\n",
              "    }\n",
              "  }\n",
              "</style>\n",
              "\n",
              "  <script>\n",
              "    async function quickchart(key) {\n",
              "      const quickchartButtonEl =\n",
              "        document.querySelector('#' + key + ' button');\n",
              "      quickchartButtonEl.disabled = true;  // To prevent multiple clicks.\n",
              "      quickchartButtonEl.classList.add('colab-df-spinner');\n",
              "      try {\n",
              "        const charts = await google.colab.kernel.invokeFunction(\n",
              "            'suggestCharts', [key], {});\n",
              "      } catch (error) {\n",
              "        console.error('Error during call to suggestCharts:', error);\n",
              "      }\n",
              "      quickchartButtonEl.classList.remove('colab-df-spinner');\n",
              "      quickchartButtonEl.classList.add('colab-df-quickchart-complete');\n",
              "    }\n",
              "    (() => {\n",
              "      let quickchartButtonEl =\n",
              "        document.querySelector('#df-d4bf7f07-1949-46a5-83cd-15fbef451eba button');\n",
              "      quickchartButtonEl.style.display =\n",
              "        google.colab.kernel.accessAllowed ? 'block' : 'none';\n",
              "    })();\n",
              "  </script>\n",
              "</div>\n",
              "    </div>\n",
              "  </div>\n"
            ]
          },
          "metadata": {},
          "execution_count": 8
        }
      ],
      "source": [
        "data = pd.read_csv('/content/drive/My Drive/dataset/Energieverbrauch.csv')\n",
        "data.head()"
      ]
    },
    {
      "cell_type": "markdown",
      "metadata": {
        "id": "cLJIhG0WPUX1"
      },
      "source": [
        "## Aufgabe 2\n",
        "- Sie wollen ein Vorhersagemodell für den Energiebedarf erstellen.\n",
        "- Indizieren Sie dazu zunächst das Dataframe mit dem Zeitstempel.\n",
        "- Vergessen Sie dabei nicht, das Datenformat der Spalte Date falls nötig zu ändern"
      ]
    },
    {
      "cell_type": "code",
      "execution_count": null,
      "metadata": {
        "id": "wiKgkkpwPUX3",
        "outputId": "9ec7f201-1388-4021-94d4-7e5bf625d791",
        "colab": {
          "base_uri": "https://localhost:8080/",
          "height": 238
        }
      },
      "outputs": [
        {
          "output_type": "execute_result",
          "data": {
            "text/plain": [
              "            Consumption\n",
              "Date                   \n",
              "2012-01-01      948.128\n",
              "2012-01-02     1269.581\n",
              "2012-01-03     1334.745\n",
              "2012-01-04     1347.136\n",
              "2012-01-05     1376.658"
            ],
            "text/html": [
              "\n",
              "  <div id=\"df-cbb78964-ad8a-4fa0-82a5-ee8d23055510\" class=\"colab-df-container\">\n",
              "    <div>\n",
              "<style scoped>\n",
              "    .dataframe tbody tr th:only-of-type {\n",
              "        vertical-align: middle;\n",
              "    }\n",
              "\n",
              "    .dataframe tbody tr th {\n",
              "        vertical-align: top;\n",
              "    }\n",
              "\n",
              "    .dataframe thead th {\n",
              "        text-align: right;\n",
              "    }\n",
              "</style>\n",
              "<table border=\"1\" class=\"dataframe\">\n",
              "  <thead>\n",
              "    <tr style=\"text-align: right;\">\n",
              "      <th></th>\n",
              "      <th>Consumption</th>\n",
              "    </tr>\n",
              "    <tr>\n",
              "      <th>Date</th>\n",
              "      <th></th>\n",
              "    </tr>\n",
              "  </thead>\n",
              "  <tbody>\n",
              "    <tr>\n",
              "      <th>2012-01-01</th>\n",
              "      <td>948.128</td>\n",
              "    </tr>\n",
              "    <tr>\n",
              "      <th>2012-01-02</th>\n",
              "      <td>1269.581</td>\n",
              "    </tr>\n",
              "    <tr>\n",
              "      <th>2012-01-03</th>\n",
              "      <td>1334.745</td>\n",
              "    </tr>\n",
              "    <tr>\n",
              "      <th>2012-01-04</th>\n",
              "      <td>1347.136</td>\n",
              "    </tr>\n",
              "    <tr>\n",
              "      <th>2012-01-05</th>\n",
              "      <td>1376.658</td>\n",
              "    </tr>\n",
              "  </tbody>\n",
              "</table>\n",
              "</div>\n",
              "    <div class=\"colab-df-buttons\">\n",
              "\n",
              "  <div class=\"colab-df-container\">\n",
              "    <button class=\"colab-df-convert\" onclick=\"convertToInteractive('df-cbb78964-ad8a-4fa0-82a5-ee8d23055510')\"\n",
              "            title=\"Convert this dataframe to an interactive table.\"\n",
              "            style=\"display:none;\">\n",
              "\n",
              "  <svg xmlns=\"http://www.w3.org/2000/svg\" height=\"24px\" viewBox=\"0 -960 960 960\">\n",
              "    <path d=\"M120-120v-720h720v720H120Zm60-500h600v-160H180v160Zm220 220h160v-160H400v160Zm0 220h160v-160H400v160ZM180-400h160v-160H180v160Zm440 0h160v-160H620v160ZM180-180h160v-160H180v160Zm440 0h160v-160H620v160Z\"/>\n",
              "  </svg>\n",
              "    </button>\n",
              "\n",
              "  <style>\n",
              "    .colab-df-container {\n",
              "      display:flex;\n",
              "      gap: 12px;\n",
              "    }\n",
              "\n",
              "    .colab-df-convert {\n",
              "      background-color: #E8F0FE;\n",
              "      border: none;\n",
              "      border-radius: 50%;\n",
              "      cursor: pointer;\n",
              "      display: none;\n",
              "      fill: #1967D2;\n",
              "      height: 32px;\n",
              "      padding: 0 0 0 0;\n",
              "      width: 32px;\n",
              "    }\n",
              "\n",
              "    .colab-df-convert:hover {\n",
              "      background-color: #E2EBFA;\n",
              "      box-shadow: 0px 1px 2px rgba(60, 64, 67, 0.3), 0px 1px 3px 1px rgba(60, 64, 67, 0.15);\n",
              "      fill: #174EA6;\n",
              "    }\n",
              "\n",
              "    .colab-df-buttons div {\n",
              "      margin-bottom: 4px;\n",
              "    }\n",
              "\n",
              "    [theme=dark] .colab-df-convert {\n",
              "      background-color: #3B4455;\n",
              "      fill: #D2E3FC;\n",
              "    }\n",
              "\n",
              "    [theme=dark] .colab-df-convert:hover {\n",
              "      background-color: #434B5C;\n",
              "      box-shadow: 0px 1px 3px 1px rgba(0, 0, 0, 0.15);\n",
              "      filter: drop-shadow(0px 1px 2px rgba(0, 0, 0, 0.3));\n",
              "      fill: #FFFFFF;\n",
              "    }\n",
              "  </style>\n",
              "\n",
              "    <script>\n",
              "      const buttonEl =\n",
              "        document.querySelector('#df-cbb78964-ad8a-4fa0-82a5-ee8d23055510 button.colab-df-convert');\n",
              "      buttonEl.style.display =\n",
              "        google.colab.kernel.accessAllowed ? 'block' : 'none';\n",
              "\n",
              "      async function convertToInteractive(key) {\n",
              "        const element = document.querySelector('#df-cbb78964-ad8a-4fa0-82a5-ee8d23055510');\n",
              "        const dataTable =\n",
              "          await google.colab.kernel.invokeFunction('convertToInteractive',\n",
              "                                                    [key], {});\n",
              "        if (!dataTable) return;\n",
              "\n",
              "        const docLinkHtml = 'Like what you see? Visit the ' +\n",
              "          '<a target=\"_blank\" href=https://colab.research.google.com/notebooks/data_table.ipynb>data table notebook</a>'\n",
              "          + ' to learn more about interactive tables.';\n",
              "        element.innerHTML = '';\n",
              "        dataTable['output_type'] = 'display_data';\n",
              "        await google.colab.output.renderOutput(dataTable, element);\n",
              "        const docLink = document.createElement('div');\n",
              "        docLink.innerHTML = docLinkHtml;\n",
              "        element.appendChild(docLink);\n",
              "      }\n",
              "    </script>\n",
              "  </div>\n",
              "\n",
              "\n",
              "<div id=\"df-7fa80a2a-f896-4dd7-9bf3-00ff00a337c8\">\n",
              "  <button class=\"colab-df-quickchart\" onclick=\"quickchart('df-7fa80a2a-f896-4dd7-9bf3-00ff00a337c8')\"\n",
              "            title=\"Suggest charts\"\n",
              "            style=\"display:none;\">\n",
              "\n",
              "<svg xmlns=\"http://www.w3.org/2000/svg\" height=\"24px\"viewBox=\"0 0 24 24\"\n",
              "     width=\"24px\">\n",
              "    <g>\n",
              "        <path d=\"M19 3H5c-1.1 0-2 .9-2 2v14c0 1.1.9 2 2 2h14c1.1 0 2-.9 2-2V5c0-1.1-.9-2-2-2zM9 17H7v-7h2v7zm4 0h-2V7h2v10zm4 0h-2v-4h2v4z\"/>\n",
              "    </g>\n",
              "</svg>\n",
              "  </button>\n",
              "\n",
              "<style>\n",
              "  .colab-df-quickchart {\n",
              "      --bg-color: #E8F0FE;\n",
              "      --fill-color: #1967D2;\n",
              "      --hover-bg-color: #E2EBFA;\n",
              "      --hover-fill-color: #174EA6;\n",
              "      --disabled-fill-color: #AAA;\n",
              "      --disabled-bg-color: #DDD;\n",
              "  }\n",
              "\n",
              "  [theme=dark] .colab-df-quickchart {\n",
              "      --bg-color: #3B4455;\n",
              "      --fill-color: #D2E3FC;\n",
              "      --hover-bg-color: #434B5C;\n",
              "      --hover-fill-color: #FFFFFF;\n",
              "      --disabled-bg-color: #3B4455;\n",
              "      --disabled-fill-color: #666;\n",
              "  }\n",
              "\n",
              "  .colab-df-quickchart {\n",
              "    background-color: var(--bg-color);\n",
              "    border: none;\n",
              "    border-radius: 50%;\n",
              "    cursor: pointer;\n",
              "    display: none;\n",
              "    fill: var(--fill-color);\n",
              "    height: 32px;\n",
              "    padding: 0;\n",
              "    width: 32px;\n",
              "  }\n",
              "\n",
              "  .colab-df-quickchart:hover {\n",
              "    background-color: var(--hover-bg-color);\n",
              "    box-shadow: 0 1px 2px rgba(60, 64, 67, 0.3), 0 1px 3px 1px rgba(60, 64, 67, 0.15);\n",
              "    fill: var(--button-hover-fill-color);\n",
              "  }\n",
              "\n",
              "  .colab-df-quickchart-complete:disabled,\n",
              "  .colab-df-quickchart-complete:disabled:hover {\n",
              "    background-color: var(--disabled-bg-color);\n",
              "    fill: var(--disabled-fill-color);\n",
              "    box-shadow: none;\n",
              "  }\n",
              "\n",
              "  .colab-df-spinner {\n",
              "    border: 2px solid var(--fill-color);\n",
              "    border-color: transparent;\n",
              "    border-bottom-color: var(--fill-color);\n",
              "    animation:\n",
              "      spin 1s steps(1) infinite;\n",
              "  }\n",
              "\n",
              "  @keyframes spin {\n",
              "    0% {\n",
              "      border-color: transparent;\n",
              "      border-bottom-color: var(--fill-color);\n",
              "      border-left-color: var(--fill-color);\n",
              "    }\n",
              "    20% {\n",
              "      border-color: transparent;\n",
              "      border-left-color: var(--fill-color);\n",
              "      border-top-color: var(--fill-color);\n",
              "    }\n",
              "    30% {\n",
              "      border-color: transparent;\n",
              "      border-left-color: var(--fill-color);\n",
              "      border-top-color: var(--fill-color);\n",
              "      border-right-color: var(--fill-color);\n",
              "    }\n",
              "    40% {\n",
              "      border-color: transparent;\n",
              "      border-right-color: var(--fill-color);\n",
              "      border-top-color: var(--fill-color);\n",
              "    }\n",
              "    60% {\n",
              "      border-color: transparent;\n",
              "      border-right-color: var(--fill-color);\n",
              "    }\n",
              "    80% {\n",
              "      border-color: transparent;\n",
              "      border-right-color: var(--fill-color);\n",
              "      border-bottom-color: var(--fill-color);\n",
              "    }\n",
              "    90% {\n",
              "      border-color: transparent;\n",
              "      border-bottom-color: var(--fill-color);\n",
              "    }\n",
              "  }\n",
              "</style>\n",
              "\n",
              "  <script>\n",
              "    async function quickchart(key) {\n",
              "      const quickchartButtonEl =\n",
              "        document.querySelector('#' + key + ' button');\n",
              "      quickchartButtonEl.disabled = true;  // To prevent multiple clicks.\n",
              "      quickchartButtonEl.classList.add('colab-df-spinner');\n",
              "      try {\n",
              "        const charts = await google.colab.kernel.invokeFunction(\n",
              "            'suggestCharts', [key], {});\n",
              "      } catch (error) {\n",
              "        console.error('Error during call to suggestCharts:', error);\n",
              "      }\n",
              "      quickchartButtonEl.classList.remove('colab-df-spinner');\n",
              "      quickchartButtonEl.classList.add('colab-df-quickchart-complete');\n",
              "    }\n",
              "    (() => {\n",
              "      let quickchartButtonEl =\n",
              "        document.querySelector('#df-7fa80a2a-f896-4dd7-9bf3-00ff00a337c8 button');\n",
              "      quickchartButtonEl.style.display =\n",
              "        google.colab.kernel.accessAllowed ? 'block' : 'none';\n",
              "    })();\n",
              "  </script>\n",
              "</div>\n",
              "    </div>\n",
              "  </div>\n"
            ]
          },
          "metadata": {},
          "execution_count": 9
        }
      ],
      "source": [
        "data['Date'] = pd.to_datetime(data['Date'])\n",
        "data.set_index('Date', inplace=True)\n",
        "data.head()"
      ]
    },
    {
      "cell_type": "markdown",
      "metadata": {
        "id": "OzQcBr3LPUX5"
      },
      "source": [
        "## Aufgabe 3\n",
        "- Für das Vorhersagemodell wollen Sie folgende Merkmale heranziehen:\n",
        "    Jahr, Monat, Wochentag (0,1,2,3...,6 für Mo-So)\n",
        "- Solche zeitlichen Merkmale können Sie ganz leicht mithilfe des Zeitstempel-Index generieren.\n",
        "- Für den Wochentag wurde das unten beispielhaft schon durchgeführt.\n",
        "- Fügen Sie auf ähnliche Weise zwei weitere Spalten mit den Merkmalen Jahr und Monat ein. Hinweis: Verwenden Sie dazu die Attribute year und month des index.\n",
        "- Geben Sie sich Teile des Dataframes aus und inspizieren Sie die neu hinzugefügten Merkmale."
      ]
    },
    {
      "cell_type": "code",
      "execution_count": null,
      "metadata": {
        "id": "TS5XTXrJPUX7"
      },
      "outputs": [],
      "source": [
        "data['Weekday'] = data.index.weekday\n",
        "\n",
        "# Das hier noch anpassen\n",
        "data['Year'] = data.index.year\n",
        "data['Month'] = data.index.month"
      ]
    },
    {
      "cell_type": "markdown",
      "metadata": {
        "id": "tkT4nDocPUX9"
      },
      "source": [
        "## Aufgabe 4\n",
        "- Weiterhin wollen Sie das Merkmal Wochenende 0/1 generieren.\n",
        "- Wie das funktioniert, sieht man in der unteren Zelle.\n",
        "- Gehen Sie den Code durch und versuchen Sie zu verstehen, was passiert"
      ]
    },
    {
      "cell_type": "code",
      "execution_count": null,
      "metadata": {
        "id": "EVTlB-o1PUX_"
      },
      "outputs": [],
      "source": [
        "data['Weekend'] = [0 if x < 5 else 1 for x in data.index.weekday]"
      ]
    },
    {
      "cell_type": "markdown",
      "metadata": {
        "id": "Iu3ZoaKbPUYB"
      },
      "source": [
        "## Aufgabe 5\n",
        "- Unten kommt eine Zelle mit einer Hilfsfunktion. Sie müssen die Zelle einfach nur ausführen. Die Funktion an sich müssen Sie nicht verändern.\n",
        "- Versuchen Sie zu verstehen, was passiert. Was macht die Hilfsfunktion?\n",
        "\n",
        "\n"
      ]
    },
    {
      "cell_type": "markdown",
      "source": [
        "Die Funktion generate_sets erhält als eingabe ein Dataframe und teilt diese in 3 Mengen auf (Trainingsmenge 60%, Validierungsmenge 20% und Testmenge 20%.\n",
        "\n",
        "Die Zielvariable (Consumption) wird für jedes Set separat zugewiesen (y_train,y_validate, y_test)\n",
        "\n",
        "Die Features werden von den Datensätzen entfernt und in separate Sets (X_train, X_validate, X_test) gespeichert. Dabei werden die Spalten 'Consumption' und 'Year' aus den Features entfernt, da sie als Labels bzw. nicht relevante Information betrachtet werden."
      ],
      "metadata": {
        "id": "seDbB9JrRYei"
      }
    },
    {
      "cell_type": "code",
      "execution_count": null,
      "metadata": {
        "id": "Dje3PbgyPUYD"
      },
      "outputs": [],
      "source": [
        "# Hilfsfunktion\n",
        "def generate_sets(df):\n",
        "\n",
        "    # Spalte df auf in Trainings-, Validierungs- und Testmenge in den Anteilen 60%, 20%, 20%\n",
        "    df_train, df_validate, df_test = np.split(df.sample(frac=1), [int(.6*len(df)), int(.8*len(df))])\n",
        "\n",
        "    # Auswahl der Label durch Auswahl der entsprechenden Spalten\n",
        "    y_train = df_train['Consumption']\n",
        "    y_validate = df_validate['Consumption']\n",
        "    y_test = df_test['Consumption']\n",
        "\n",
        "    # Merkmale nicht in des Modell einbeziehen und somit die jeweiligen Spalten aus dem Datensatz entfernen\n",
        "    X_train = df_train.drop(['Consumption','Year'], axis=1)\n",
        "    X_validate = df_validate.drop(['Consumption','Year'], axis=1)\n",
        "    X_test = df_test.drop(['Consumption','Year'], axis=1)\n",
        "\n",
        "    return X_train, y_train, X_validate, y_validate, X_test, y_test\n"
      ]
    },
    {
      "cell_type": "markdown",
      "metadata": {
        "id": "Y1u1G44aPUYE"
      },
      "source": [
        "## Aufgabe 6\n",
        "- Oben in der Hilfsfunktion wird das Merkmal 'Year' aus den Datensätzen entfernt und nicht in das Modell einbezogen. Warum macht das Sinn?\n",
        "- Weiterhin wird aus X_train/validate/test die Spalte \"Consumption\" gelöscht. Wieso macht das Sinn?\n",
        "- Wozu braucht man Trainings-, Validierungs- und Testmenge?"
      ]
    },
    {
      "cell_type": "markdown",
      "source": [
        "Antwort: ...."
      ],
      "metadata": {
        "id": "VjaNopoSRctq"
      }
    },
    {
      "cell_type": "code",
      "execution_count": null,
      "metadata": {
        "id": "T0i_TEQoPUYF",
        "outputId": "d0e4c5a3-a6a4-4583-b789-23c1cc04266e",
        "colab": {
          "base_uri": "https://localhost:8080/",
          "height": 338
        }
      },
      "outputs": [
        {
          "output_type": "error",
          "ename": "KeyError",
          "evalue": "ignored",
          "traceback": [
            "\u001b[0;31m---------------------------------------------------------------------------\u001b[0m",
            "\u001b[0;31mKeyError\u001b[0m                                  Traceback (most recent call last)",
            "\u001b[0;32m<ipython-input-13-09e6566a1605>\u001b[0m in \u001b[0;36m<cell line: 2>\u001b[0;34m()\u001b[0m\n\u001b[1;32m      1\u001b[0m \u001b[0;31m# Datensatz aufteilen in Trainings-, Validierungs- und Testmenge mit der Hilfsfunktion:\u001b[0m\u001b[0;34m\u001b[0m\u001b[0;34m\u001b[0m\u001b[0m\n\u001b[0;32m----> 2\u001b[0;31m \u001b[0mX_train\u001b[0m\u001b[0;34m,\u001b[0m \u001b[0my_train\u001b[0m\u001b[0;34m,\u001b[0m \u001b[0mX_val\u001b[0m\u001b[0;34m,\u001b[0m \u001b[0my_val\u001b[0m\u001b[0;34m,\u001b[0m \u001b[0mX_test\u001b[0m\u001b[0;34m,\u001b[0m \u001b[0my_test\u001b[0m \u001b[0;34m=\u001b[0m \u001b[0mgenerate_sets\u001b[0m\u001b[0;34m(\u001b[0m\u001b[0mdata\u001b[0m\u001b[0;34m)\u001b[0m\u001b[0;34m\u001b[0m\u001b[0;34m\u001b[0m\u001b[0m\n\u001b[0m",
            "\u001b[0;32m<ipython-input-12-689d183b96da>\u001b[0m in \u001b[0;36mgenerate_sets\u001b[0;34m(df)\u001b[0m\n\u001b[1;32m     11\u001b[0m \u001b[0;34m\u001b[0m\u001b[0m\n\u001b[1;32m     12\u001b[0m     \u001b[0;31m# Merkmale nicht in des Modell einbeziehen und somit die jeweiligen Spalten aus dem Datensatz entfernen\u001b[0m\u001b[0;34m\u001b[0m\u001b[0;34m\u001b[0m\u001b[0m\n\u001b[0;32m---> 13\u001b[0;31m     \u001b[0mX_train\u001b[0m \u001b[0;34m=\u001b[0m \u001b[0mdf_train\u001b[0m\u001b[0;34m.\u001b[0m\u001b[0mdrop\u001b[0m\u001b[0;34m(\u001b[0m\u001b[0;34m[\u001b[0m\u001b[0;34m'Consumption'\u001b[0m\u001b[0;34m,\u001b[0m\u001b[0;34m'Year'\u001b[0m\u001b[0;34m]\u001b[0m\u001b[0;34m,\u001b[0m \u001b[0maxis\u001b[0m\u001b[0;34m=\u001b[0m\u001b[0;36m1\u001b[0m\u001b[0;34m)\u001b[0m\u001b[0;34m\u001b[0m\u001b[0;34m\u001b[0m\u001b[0m\n\u001b[0m\u001b[1;32m     14\u001b[0m     \u001b[0mX_validate\u001b[0m \u001b[0;34m=\u001b[0m \u001b[0mdf_validate\u001b[0m\u001b[0;34m.\u001b[0m\u001b[0mdrop\u001b[0m\u001b[0;34m(\u001b[0m\u001b[0;34m[\u001b[0m\u001b[0;34m'Consumption'\u001b[0m\u001b[0;34m,\u001b[0m\u001b[0;34m'Year'\u001b[0m\u001b[0;34m]\u001b[0m\u001b[0;34m,\u001b[0m \u001b[0maxis\u001b[0m\u001b[0;34m=\u001b[0m\u001b[0;36m1\u001b[0m\u001b[0;34m)\u001b[0m\u001b[0;34m\u001b[0m\u001b[0;34m\u001b[0m\u001b[0m\n\u001b[1;32m     15\u001b[0m     \u001b[0mX_test\u001b[0m \u001b[0;34m=\u001b[0m \u001b[0mdf_test\u001b[0m\u001b[0;34m.\u001b[0m\u001b[0mdrop\u001b[0m\u001b[0;34m(\u001b[0m\u001b[0;34m[\u001b[0m\u001b[0;34m'Consumption'\u001b[0m\u001b[0;34m,\u001b[0m\u001b[0;34m'Year'\u001b[0m\u001b[0;34m]\u001b[0m\u001b[0;34m,\u001b[0m \u001b[0maxis\u001b[0m\u001b[0;34m=\u001b[0m\u001b[0;36m1\u001b[0m\u001b[0;34m)\u001b[0m\u001b[0;34m\u001b[0m\u001b[0;34m\u001b[0m\u001b[0m\n",
            "\u001b[0;32m/usr/local/lib/python3.10/dist-packages/pandas/util/_decorators.py\u001b[0m in \u001b[0;36mwrapper\u001b[0;34m(*args, **kwargs)\u001b[0m\n\u001b[1;32m    329\u001b[0m                     \u001b[0mstacklevel\u001b[0m\u001b[0;34m=\u001b[0m\u001b[0mfind_stack_level\u001b[0m\u001b[0;34m(\u001b[0m\u001b[0;34m)\u001b[0m\u001b[0;34m,\u001b[0m\u001b[0;34m\u001b[0m\u001b[0;34m\u001b[0m\u001b[0m\n\u001b[1;32m    330\u001b[0m                 )\n\u001b[0;32m--> 331\u001b[0;31m             \u001b[0;32mreturn\u001b[0m \u001b[0mfunc\u001b[0m\u001b[0;34m(\u001b[0m\u001b[0;34m*\u001b[0m\u001b[0margs\u001b[0m\u001b[0;34m,\u001b[0m \u001b[0;34m**\u001b[0m\u001b[0mkwargs\u001b[0m\u001b[0;34m)\u001b[0m\u001b[0;34m\u001b[0m\u001b[0;34m\u001b[0m\u001b[0m\n\u001b[0m\u001b[1;32m    332\u001b[0m \u001b[0;34m\u001b[0m\u001b[0m\n\u001b[1;32m    333\u001b[0m         \u001b[0;31m# error: \"Callable[[VarArg(Any), KwArg(Any)], Any]\" has no\u001b[0m\u001b[0;34m\u001b[0m\u001b[0;34m\u001b[0m\u001b[0m\n",
            "\u001b[0;32m/usr/local/lib/python3.10/dist-packages/pandas/core/frame.py\u001b[0m in \u001b[0;36mdrop\u001b[0;34m(self, labels, axis, index, columns, level, inplace, errors)\u001b[0m\n\u001b[1;32m   5397\u001b[0m                 \u001b[0mweight\u001b[0m  \u001b[0;36m1.0\u001b[0m     \u001b[0;36m0.8\u001b[0m\u001b[0;34m\u001b[0m\u001b[0;34m\u001b[0m\u001b[0m\n\u001b[1;32m   5398\u001b[0m         \"\"\"\n\u001b[0;32m-> 5399\u001b[0;31m         return super().drop(\n\u001b[0m\u001b[1;32m   5400\u001b[0m             \u001b[0mlabels\u001b[0m\u001b[0;34m=\u001b[0m\u001b[0mlabels\u001b[0m\u001b[0;34m,\u001b[0m\u001b[0;34m\u001b[0m\u001b[0;34m\u001b[0m\u001b[0m\n\u001b[1;32m   5401\u001b[0m             \u001b[0maxis\u001b[0m\u001b[0;34m=\u001b[0m\u001b[0maxis\u001b[0m\u001b[0;34m,\u001b[0m\u001b[0;34m\u001b[0m\u001b[0;34m\u001b[0m\u001b[0m\n",
            "\u001b[0;32m/usr/local/lib/python3.10/dist-packages/pandas/util/_decorators.py\u001b[0m in \u001b[0;36mwrapper\u001b[0;34m(*args, **kwargs)\u001b[0m\n\u001b[1;32m    329\u001b[0m                     \u001b[0mstacklevel\u001b[0m\u001b[0;34m=\u001b[0m\u001b[0mfind_stack_level\u001b[0m\u001b[0;34m(\u001b[0m\u001b[0;34m)\u001b[0m\u001b[0;34m,\u001b[0m\u001b[0;34m\u001b[0m\u001b[0;34m\u001b[0m\u001b[0m\n\u001b[1;32m    330\u001b[0m                 )\n\u001b[0;32m--> 331\u001b[0;31m             \u001b[0;32mreturn\u001b[0m \u001b[0mfunc\u001b[0m\u001b[0;34m(\u001b[0m\u001b[0;34m*\u001b[0m\u001b[0margs\u001b[0m\u001b[0;34m,\u001b[0m \u001b[0;34m**\u001b[0m\u001b[0mkwargs\u001b[0m\u001b[0;34m)\u001b[0m\u001b[0;34m\u001b[0m\u001b[0;34m\u001b[0m\u001b[0m\n\u001b[0m\u001b[1;32m    332\u001b[0m \u001b[0;34m\u001b[0m\u001b[0m\n\u001b[1;32m    333\u001b[0m         \u001b[0;31m# error: \"Callable[[VarArg(Any), KwArg(Any)], Any]\" has no\u001b[0m\u001b[0;34m\u001b[0m\u001b[0;34m\u001b[0m\u001b[0m\n",
            "\u001b[0;32m/usr/local/lib/python3.10/dist-packages/pandas/core/generic.py\u001b[0m in \u001b[0;36mdrop\u001b[0;34m(self, labels, axis, index, columns, level, inplace, errors)\u001b[0m\n\u001b[1;32m   4503\u001b[0m         \u001b[0;32mfor\u001b[0m \u001b[0maxis\u001b[0m\u001b[0;34m,\u001b[0m \u001b[0mlabels\u001b[0m \u001b[0;32min\u001b[0m \u001b[0maxes\u001b[0m\u001b[0;34m.\u001b[0m\u001b[0mitems\u001b[0m\u001b[0;34m(\u001b[0m\u001b[0;34m)\u001b[0m\u001b[0;34m:\u001b[0m\u001b[0;34m\u001b[0m\u001b[0;34m\u001b[0m\u001b[0m\n\u001b[1;32m   4504\u001b[0m             \u001b[0;32mif\u001b[0m \u001b[0mlabels\u001b[0m \u001b[0;32mis\u001b[0m \u001b[0;32mnot\u001b[0m \u001b[0;32mNone\u001b[0m\u001b[0;34m:\u001b[0m\u001b[0;34m\u001b[0m\u001b[0;34m\u001b[0m\u001b[0m\n\u001b[0;32m-> 4505\u001b[0;31m                 \u001b[0mobj\u001b[0m \u001b[0;34m=\u001b[0m \u001b[0mobj\u001b[0m\u001b[0;34m.\u001b[0m\u001b[0m_drop_axis\u001b[0m\u001b[0;34m(\u001b[0m\u001b[0mlabels\u001b[0m\u001b[0;34m,\u001b[0m \u001b[0maxis\u001b[0m\u001b[0;34m,\u001b[0m \u001b[0mlevel\u001b[0m\u001b[0;34m=\u001b[0m\u001b[0mlevel\u001b[0m\u001b[0;34m,\u001b[0m \u001b[0merrors\u001b[0m\u001b[0;34m=\u001b[0m\u001b[0merrors\u001b[0m\u001b[0;34m)\u001b[0m\u001b[0;34m\u001b[0m\u001b[0;34m\u001b[0m\u001b[0m\n\u001b[0m\u001b[1;32m   4506\u001b[0m \u001b[0;34m\u001b[0m\u001b[0m\n\u001b[1;32m   4507\u001b[0m         \u001b[0;32mif\u001b[0m \u001b[0minplace\u001b[0m\u001b[0;34m:\u001b[0m\u001b[0;34m\u001b[0m\u001b[0;34m\u001b[0m\u001b[0m\n",
            "\u001b[0;32m/usr/local/lib/python3.10/dist-packages/pandas/core/generic.py\u001b[0m in \u001b[0;36m_drop_axis\u001b[0;34m(self, labels, axis, level, errors, only_slice)\u001b[0m\n\u001b[1;32m   4544\u001b[0m                 \u001b[0mnew_axis\u001b[0m \u001b[0;34m=\u001b[0m \u001b[0maxis\u001b[0m\u001b[0;34m.\u001b[0m\u001b[0mdrop\u001b[0m\u001b[0;34m(\u001b[0m\u001b[0mlabels\u001b[0m\u001b[0;34m,\u001b[0m \u001b[0mlevel\u001b[0m\u001b[0;34m=\u001b[0m\u001b[0mlevel\u001b[0m\u001b[0;34m,\u001b[0m \u001b[0merrors\u001b[0m\u001b[0;34m=\u001b[0m\u001b[0merrors\u001b[0m\u001b[0;34m)\u001b[0m\u001b[0;34m\u001b[0m\u001b[0;34m\u001b[0m\u001b[0m\n\u001b[1;32m   4545\u001b[0m             \u001b[0;32melse\u001b[0m\u001b[0;34m:\u001b[0m\u001b[0;34m\u001b[0m\u001b[0;34m\u001b[0m\u001b[0m\n\u001b[0;32m-> 4546\u001b[0;31m                 \u001b[0mnew_axis\u001b[0m \u001b[0;34m=\u001b[0m \u001b[0maxis\u001b[0m\u001b[0;34m.\u001b[0m\u001b[0mdrop\u001b[0m\u001b[0;34m(\u001b[0m\u001b[0mlabels\u001b[0m\u001b[0;34m,\u001b[0m \u001b[0merrors\u001b[0m\u001b[0;34m=\u001b[0m\u001b[0merrors\u001b[0m\u001b[0;34m)\u001b[0m\u001b[0;34m\u001b[0m\u001b[0;34m\u001b[0m\u001b[0m\n\u001b[0m\u001b[1;32m   4547\u001b[0m             \u001b[0mindexer\u001b[0m \u001b[0;34m=\u001b[0m \u001b[0maxis\u001b[0m\u001b[0;34m.\u001b[0m\u001b[0mget_indexer\u001b[0m\u001b[0;34m(\u001b[0m\u001b[0mnew_axis\u001b[0m\u001b[0;34m)\u001b[0m\u001b[0;34m\u001b[0m\u001b[0;34m\u001b[0m\u001b[0m\n\u001b[1;32m   4548\u001b[0m \u001b[0;34m\u001b[0m\u001b[0m\n",
            "\u001b[0;32m/usr/local/lib/python3.10/dist-packages/pandas/core/indexes/base.py\u001b[0m in \u001b[0;36mdrop\u001b[0;34m(self, labels, errors)\u001b[0m\n\u001b[1;32m   6932\u001b[0m         \u001b[0;32mif\u001b[0m \u001b[0mmask\u001b[0m\u001b[0;34m.\u001b[0m\u001b[0many\u001b[0m\u001b[0;34m(\u001b[0m\u001b[0;34m)\u001b[0m\u001b[0;34m:\u001b[0m\u001b[0;34m\u001b[0m\u001b[0;34m\u001b[0m\u001b[0m\n\u001b[1;32m   6933\u001b[0m             \u001b[0;32mif\u001b[0m \u001b[0merrors\u001b[0m \u001b[0;34m!=\u001b[0m \u001b[0;34m\"ignore\"\u001b[0m\u001b[0;34m:\u001b[0m\u001b[0;34m\u001b[0m\u001b[0;34m\u001b[0m\u001b[0m\n\u001b[0;32m-> 6934\u001b[0;31m                 \u001b[0;32mraise\u001b[0m \u001b[0mKeyError\u001b[0m\u001b[0;34m(\u001b[0m\u001b[0;34mf\"{list(labels[mask])} not found in axis\"\u001b[0m\u001b[0;34m)\u001b[0m\u001b[0;34m\u001b[0m\u001b[0;34m\u001b[0m\u001b[0m\n\u001b[0m\u001b[1;32m   6935\u001b[0m             \u001b[0mindexer\u001b[0m \u001b[0;34m=\u001b[0m \u001b[0mindexer\u001b[0m\u001b[0;34m[\u001b[0m\u001b[0;34m~\u001b[0m\u001b[0mmask\u001b[0m\u001b[0;34m]\u001b[0m\u001b[0;34m\u001b[0m\u001b[0;34m\u001b[0m\u001b[0m\n\u001b[1;32m   6936\u001b[0m         \u001b[0;32mreturn\u001b[0m \u001b[0mself\u001b[0m\u001b[0;34m.\u001b[0m\u001b[0mdelete\u001b[0m\u001b[0;34m(\u001b[0m\u001b[0mindexer\u001b[0m\u001b[0;34m)\u001b[0m\u001b[0;34m\u001b[0m\u001b[0;34m\u001b[0m\u001b[0m\n",
            "\u001b[0;31mKeyError\u001b[0m: \"['Year'] not found in axis\""
          ]
        }
      ],
      "source": [
        "# Datensatz aufteilen in Trainings-, Validierungs- und Testmenge mit der Hilfsfunktion:\n",
        "X_train, y_train, X_val, y_val, X_test, y_test = generate_sets(data)"
      ]
    },
    {
      "cell_type": "markdown",
      "metadata": {
        "id": "odcd6Ap8PUYH"
      },
      "source": [
        "## Aufgabe 7\n",
        "- Es folgt eine Hilfsfunktion zum Trainieren eines Entscheidungsbaum und der graphischen Ausgabe des trainierten Baumes.\n",
        "- Auch an dieser Funktion müssen Sie nichts ändern.\n",
        "- Vielleicht verstehen Sie Teile der Funktion?\n",
        "- Schauen Sie sich an, wie man Funktionen zum leichteren Verständnis mittels ''' ''' kommentieren kann"
      ]
    },
    {
      "cell_type": "code",
      "execution_count": null,
      "metadata": {
        "id": "e8sokImMPUYH"
      },
      "outputs": [],
      "source": [
        "# Hilfsfunktion 2\n",
        "def train_decision_tree(X_train, y_train, min_samples_split = 2, min_samples_leaf = 1, output=False):\n",
        "    '''\n",
        "    Hilfsfunktion zum Trainieren eines Entscheidungsbaumes auf einer Trainingsmenge.\n",
        "\n",
        "    Inputs:\n",
        "    X_train (df): Dataframe mit den Merkmalsvektoren der Trainingsmenge\n",
        "    y_train (df): Dataframe mit den Labeln der Trainingsmenge\n",
        "    min_samples_split (float oder int): wenn float, prozentualer Mindestanteil an Samples in jedem Split,\n",
        "                                        wenn int, Mindestanzahl Samples in jedem Split\n",
        "    min_samples_split (float oder int): wenn float, prozentualer Mindestanteil an Samples in jedem Blatt des Entscheidungsbaumes,\n",
        "                                        wenn int, Mindestanzahl Samples in jedem Blatt\n",
        "    output (bool): ob eine Ausgabe erzeugt werden soll (Die Ausgabe enthält die Regeln des Entscheidungsbaumes und eine graphische\n",
        "                   Darstellung des Entscheidungsbaumes)\n",
        "\n",
        "    Outputs:\n",
        "    dtr: ein auf der Trainingsmenge trainierter Entscheidungsbaum, der nachfolgend zur Prognose verwendet werden kann\n",
        "    '''\n",
        "\n",
        "    # Spaltennamen (=Namen der Merkmale) für später speichern\n",
        "    feature_names = list(X_train.columns)\n",
        "\n",
        "    # Dataframes in numpy arrays konvertieren, da der Entscheidungsbaum das als Input benötigt\n",
        "    X_train = np.array(X_train)\n",
        "    y_train = np.array(y_train)\n",
        "\n",
        "    #Entscheidungsbaum mit bestimmten Hyperparametern (min_samples_splkit und min_samples_leaf intialisieren)\n",
        "    dtr = DecisionTreeRegressor(random_state = 0, min_samples_split=min_samples_split, min_samples_leaf=min_samples_leaf)\n",
        "\n",
        "    # Entscheidungsbaum trainieren\n",
        "    dtr.fit(X_train, y_train)\n",
        "\n",
        "    # Optionale Ausgabe generieren\n",
        "    if output:\n",
        "\n",
        "        rules = export_text(dtr, feature_names = feature_names)\n",
        "        print(rules)\n",
        "        print('Folgende Merkmale waren verfügbar:', feature_names)\n",
        "\n",
        "        with plt.style.context('classic'):\n",
        "            plt.figure(figsize=(20,10))\n",
        "            tree.plot_tree(dtr, filled=True, impurity=True, rounded=True, feature_names=feature_names)\n",
        "\n",
        "    return dtr"
      ]
    },
    {
      "cell_type": "markdown",
      "metadata": {
        "id": "3I5jnNDzPUYJ"
      },
      "source": [
        "### Aufgabe 8:\n",
        "- Als nächstes wollen wir einen Entscheidungsbaum auf dem Trainingsdatensatz trainieren.\n",
        "- Dazu wird die Hilfsfunktion train_decision_tree herangezogen.\n",
        "- Diese enthält die Parameter min_samples_split und min_samples_leaf\n",
        "- Was bedeuten diese Parameter? Versuchen Sie dies mithilfe der Dokumentation zu klären:  \n",
        "https://scikit-learn.org/stable/modules/generated/sklearn.tree.DecisionTreeClassifier.html\n",
        "- Was passiert wenn Sie diese Parameter verändern?\n",
        "- Führen Sie die Funktion in der untenstehenden Zelle mehrfach aus und variieren Sie dabei z.B. min_samples_split zwischen 2 und 2000. Probieren Sie mindestens 10 verschiedene Werte in diesem Bereich aus und betrachten den entstehenden Entscheidungsbaum"
      ]
    },
    {
      "cell_type": "code",
      "execution_count": null,
      "metadata": {
        "id": "b1SIfLHVPUYK"
      },
      "outputs": [],
      "source": [
        "# Datensatz aufteilen in Trainings-, Validierungs- und Testmenge mit Hilfsfunktion generate_sets\n",
        "trained_decision_tree = train_decision_tree(X_train, y_train, min_samples_split = 900, min_samples_leaf = 1, output=True)"
      ]
    },
    {
      "cell_type": "markdown",
      "metadata": {
        "id": "hxGTNod4PUYL"
      },
      "source": [
        "- Es folgt eine weitere Hilfsfunktion zur Vorhersage des Energieverbrauchs mithilfe des zuvor trainierten Entscheidungsbaums\n",
        "- Auch an dieser Funktion müssen Sie nichts ändern und wir sprechen sie gemeinsam durch.\n",
        "- Wichtig: mit dieser Funktion kann man testen, wie gut die Vorhersage auf der Validierungsmenge funktioniert, siehe Aufgabe 8"
      ]
    },
    {
      "cell_type": "code",
      "execution_count": null,
      "metadata": {
        "id": "Hgk2VD87PUYM"
      },
      "outputs": [],
      "source": [
        "# Hilfsfunktion 3\n",
        "def predict_with_decision_tree(dtr, X_val, y_val, output=True):\n",
        "    '''\n",
        "    Hilfsfunktion zur Erstellung einer Vorhersage auf Basis eines trainierten Entscheidungsbaumes und zur Ausgabe der Gütemaße.\n",
        "\n",
        "    Inputs:\n",
        "    dtr: ein zuvor auf einer Trainingsmenge trainierter Entscheidungsbaum, der zur Prognose verwendet werden kann\n",
        "    X_val (df): Dataframe mit den Merkmalsvektoren der Validierungsmenge\n",
        "    y_val (df): Dataframe mit den Labeln der Validierungsmenge\n",
        "    output (bool): ob eine print-Ausgabe erzeugt werden soll (enthält Gütemaße), standardmäßig auf True.\n",
        "\n",
        "    Outputs:\n",
        "    y_pred (np.array): Vorhersage des Entscheidungsbaumes für die Merkmalsvektoren der Validierungsmenge\n",
        "    metrics_dict (dict): Dictionary mit den Metriken zur Bewertung der Vorhersagegüte\n",
        "    '''\n",
        "\n",
        "    # Vorhersage für Validierungsmenge mit Entscheidungsbaum generieren\n",
        "    y_pred = dtr.predict(X_val)\n",
        "\n",
        "    ## Metriken zur Bewertung der Vorhersagegüte berechnen\n",
        "    # Absoluten Fehler berechnen: Betrag der Differenz zwischen Vorhersage und den tatsächlichen Label der Validierungsmenge\n",
        "    abs_errors = abs(y_pred - y_val)\n",
        "\n",
        "    # Mean Absolute Error (MAE) durch Bilden des Mittelwertes berechnen\n",
        "    mae = mean_absolute_error(y_val, y_pred)\n",
        "\n",
        "    # Relativen Mean Absolute Error (MAE) durch Bilden des Mittelwertes berechnen\n",
        "    mae_rel = mae/np.mean(y_val)\n",
        "\n",
        "    # Mean Absolut Percentage Error (MAPE) berechnen\n",
        "    mape = np.mean(abs_errors/y_val)\n",
        "\n",
        "    # Mean Squared Error\n",
        "    mse = mean_squared_error(y_val, y_pred)\n",
        "\n",
        "    # Root Mean Squared Error\n",
        "    rmse = np.sqrt(mse) / np.mean(y_val)\n",
        "\n",
        "    metrics_dict = {'mae': mae,\n",
        "                    'mse': mse,\n",
        "                    'mae%': mae_rel*100,\n",
        "                    'mape%': mape*100,\n",
        "                    'rmse%': rmse*100\n",
        "                   }\n",
        "\n",
        "    if output:\n",
        "        print('Mittelwert der wahren Label', round(np.mean(y_val), 2))\n",
        "        print('MAE', round(mae, 4))\n",
        "        print('MSE', round(mse, 4))\n",
        "        print('MAE%', mae_rel*100)\n",
        "        print('MAPE%', mape*100)\n",
        "        print('RMSE%', rmse*100)\n",
        "\n",
        "    return y_pred, metrics_dict"
      ]
    },
    {
      "cell_type": "markdown",
      "metadata": {
        "id": "xpWbczQ4PUYN"
      },
      "source": [
        "## Aufgabe 8\n",
        "- Mit dem trainierten Entscheidungsbaum (trained_decision_tree) werden im nächsten Schritt Vorhersagen für die Validierungsmenge erstellt\n",
        "- Die Vorhersagen des Entscheidungsbaums werden innerhalb von Hilfsfunktion 3 mit den tatsächlichen Labeln der Validierungmenge verglichen\n",
        "- Verschiedene Metriken zur Bewertung der Güte der Regression können herangezogen werden, s. Vorlesung\n",
        "- Was bedeutet die einzelnen Metriken, die nach Ausführen der nächsten Zelle ausgegeben werden?\n",
        "- Ist das Prognosemodell gut?\n"
      ]
    },
    {
      "cell_type": "markdown",
      "source": [
        "Antwort: ...."
      ],
      "metadata": {
        "id": "uyc2uSrPRrLC"
      }
    },
    {
      "cell_type": "code",
      "execution_count": null,
      "metadata": {
        "id": "zsVsx3a-PUYO"
      },
      "outputs": [],
      "source": [
        "# Erzeuge mit dem Trainierten Entscheidungsbaum eine Vorhersage für das Validierungsset\n",
        "y_pred, metrics_dict = predict_with_decision_tree(trained_decision_tree, X_val, y_val, output=True)"
      ]
    },
    {
      "cell_type": "markdown",
      "metadata": {
        "id": "Oi4P5McEPUYP"
      },
      "source": [
        "## Aufgabe 9\n",
        "- Wir wollen ein gute Wahl für den Hyperparameter min_samples_split treffen.\n",
        "- Dafür gibt es Hilfsfunktion 4. Können Sie erkennen, was in der Hilfsfunktion passiert?\n",
        "- Versuchen Sie einen Kommentar zu verfassen, der die Hilfsfunktion beschreibt."
      ]
    },
    {
      "cell_type": "code",
      "execution_count": null,
      "metadata": {
        "id": "XQHtOhNpPUYQ"
      },
      "outputs": [],
      "source": [
        "# Hilfsfunktion 4\n",
        "def optimize_hyperparam(X_train, y_train, X_val, y_val, metric='mae%'):\n",
        "    '''\n",
        "    Hilfsfunktion zur .....\n",
        "\n",
        "    Inputs:\n",
        "    ...\n",
        "    ...\n",
        "\n",
        "    Outputs:\n",
        "    ...\n",
        "    ...\n",
        "\n",
        "\n",
        "    '''\n",
        "\n",
        "    # Anzahl der Beobachtungen bestimmen, funktioniert über Zeilenanzahl von X_train.\n",
        "    number_of_samples = X_train.shape[0]\n",
        "\n",
        "    # Noch leere Liste für Metriken erstellen, die später sukzessive gefüllt wird.\n",
        "    metrics_list = []\n",
        "\n",
        "    # Optimalen Wert für Metrik mit großer Zahl initialisieren\n",
        "    best_metric = 100000\n",
        "\n",
        "    ## Schleife zum Optimieren des Hyperparameters min_samples split\n",
        "    # min_samples_split wird auf Werte zwischen 2 und int(np.floor(1/5*number_of_samples)) gesetzt und in Einserschritten erhöht.\n",
        "    # Für jedes gesetzte min_samples_split wird ein Entscheidungsbaum trainiert\n",
        "    # und dessen Performance anhand der Validierungsmenge getestet\n",
        "    for min_samples_split in range(2, int(np.floor(1/3*number_of_samples))):\n",
        "\n",
        "        # Trainieren eines Entscheidungsbaums mit bestimmtem Wert für min_samples_split\n",
        "        decision_tree = train_decision_tree(X_train, y_train, min_samples_split = min_samples_split, output=False)\n",
        "\n",
        "        # Auswerten der Performance des Entscheidungsbaums durch Einsetzen der Validierungsmenge\n",
        "        # und Vergleich der vorhergesagten Label y_pred mit den wahren Labeln y_val\n",
        "        y_pred, metrics_dict = predict_with_decision_tree(decision_tree, X_val, y_val, output=False)\n",
        "        metrics_list.append((min_samples_split, metrics_dict))\n",
        "\n",
        "        # Finden des optimalen Werts für min_samples_split\n",
        "        if metrics_dict[metric] <= best_metric:\n",
        "            best_metric = metrics_dict[metric]\n",
        "            best_min_split = min_samples_split\n",
        "\n",
        "    ## Plotten der Ergebnisse\n",
        "    # Linienplot mit (x=Werte für min_samples_split, y=Wert der ausgewählten Metrik)\n",
        "    plt.figure(figsize=(20,10))\n",
        "    sns.lineplot(x=[i[0] for i in metrics_list], y=[i[1][metric] for i in metrics_list])\n",
        "    # Vertikale Linie bei x=best_min_split\n",
        "    plt.axvline(x=best_min_split, color='k', linestyle = '--')\n",
        "    # Horizontale Linie bei dazugehörigem y, sowie Legende erzeugen\n",
        "    plt.axhline(y=best_metric, color='k', linestyle = '--',\n",
        "                label='Bester Wert für min_samples_split: ' + str(best_min_split) + '\\n' + metric + ': ' + str(best_metric))\n",
        "    plt.legend()\n",
        "\n",
        "    # Ausgabe der Funktion\n",
        "    return metrics_list, best_metric, best_min_split\n"
      ]
    },
    {
      "cell_type": "markdown",
      "metadata": {
        "id": "hifsuDSuPUYT"
      },
      "source": [
        "## Aufgabe 10\n",
        "- Führen Sie die obige Zelle aus, sodass die Funktion optimize_hyperparam() definiert wird.\n",
        "- Wenden Sie anschließend die Funktion optimize_hyperparam() an durch ausführen der unteren Zelle und bestimmen Sie metrics_list, best_metric und best_min_split\n",
        "- Wie interpretieren Sie den erzeugten Plot? Wie sollten Sie den Hyperparameter min_samples_split setzen?\n"
      ]
    },
    {
      "cell_type": "code",
      "execution_count": null,
      "metadata": {
        "id": "wjt84xzdPUYW"
      },
      "outputs": [],
      "source": [
        "metrics_list, best_metric, best_min_split = optimize_hyperparam() # in die Klammer muss noch etwas rein, was?"
      ]
    },
    {
      "cell_type": "markdown",
      "metadata": {
        "id": "lkf8a2APPUYW"
      },
      "source": [
        "## Aufgabe 11\n",
        "- Trainieren Sie erneut einen Entscheidungsbaum und setzten Sie dabei gezielt min_samples_split auf den gefundenen optimalen Wert, indem Sie die unten stehende Funktion ausführen.\n",
        "- Was sagen Sie zu dem Ergebnis?\n",
        "- Wenn Sie mit einem Fehler %mae <= 7% zufrieden wären, welche Werte für best_min_split könnten Sie setzen? Welchen Wert würden Sie wählen, um eine gute Interpretierbarkeit des Baumes durch den Menschen zu gewährleisten?"
      ]
    },
    {
      "cell_type": "markdown",
      "source": [
        "Antwort: ...."
      ],
      "metadata": {
        "id": "QC1GnNVdRz9K"
      }
    },
    {
      "cell_type": "code",
      "execution_count": null,
      "metadata": {
        "id": "Td0xhZR3PUYX"
      },
      "outputs": [],
      "source": [
        "# Trainiere Entescheidungsbaum mit min_samples_split = best_min_split\n",
        "# best_min_split ist dabei der beste gefundene Wert für diesen Hyperparameter aus der Optimierungs oben.\n",
        "decision_tree_large = train_decision_tree(X_train, y_train, min_samples_split = best_min_split, output=True)\n",
        "\n"
      ]
    },
    {
      "cell_type": "code",
      "execution_count": null,
      "metadata": {
        "id": "A8kQhJH3PUYY"
      },
      "outputs": [],
      "source": [
        "# Trainiere einen kleineren Entscheidungsbaum durch setzen eines anderen Wertes für min_samples_split, sodass mae% vertretbar\n",
        "\n",
        "# Diese Zeile wieder einkommentieren und anpassen\n",
        "#decision_tree_smaller = train_decision_tree(X_train, y_train, min_samples_split = TODO anpassen, output=True)\n",
        "\n",
        "\n",
        "# Überprüfe Performance auf Validierungsmenge\n",
        "y_pred, metrics_dict = predict_with_decision_tree(decision_tree_smaller, X_val, y_val, output=True)"
      ]
    },
    {
      "cell_type": "markdown",
      "metadata": {
        "id": "s3rEtMj6PUYZ"
      },
      "source": [
        "## Aufgabe 12\n",
        "- Prüfen Sie die Performance des großen und des kleinen Entscheidungsbaumes auf dem Testset.\n",
        "- Wie interpretieren Sie die Ergebnisse? Wäre der kleine Entscheidungsbaum vertretbar?\n"
      ]
    },
    {
      "cell_type": "markdown",
      "source": [
        "Antwort: ..."
      ],
      "metadata": {
        "id": "O0zkeWGMR460"
      }
    },
    {
      "cell_type": "code",
      "execution_count": null,
      "metadata": {
        "id": "cUIo3_jDPUYZ"
      },
      "outputs": [],
      "source": [
        "# Performance des großen Entscheidungsbaums auf dem Testset\n",
        "y_pred, metrics_dict = predict_with_decision_tree(decision_tree_large, X_test, y_test, output=True)\n",
        "\n",
        "# Ausgabe einer leeren Zeile für die Übersichtlichkeit\n",
        "print()\n",
        "\n",
        "# Performance des kleinen Entscheidungsbaums auf dem Testset\n",
        "y_pred, metrics_dict = predict_with_decision_tree(decision_tree_smaller, X_test, y_test, output=True)\n"
      ]
    },
    {
      "cell_type": "code",
      "execution_count": null,
      "metadata": {
        "id": "8FDla9YOPUYa"
      },
      "outputs": [],
      "source": []
    }
  ],
  "metadata": {
    "kernelspec": {
      "display_name": "Python 3",
      "language": "python",
      "name": "python3"
    },
    "language_info": {
      "codemirror_mode": {
        "name": "ipython",
        "version": 3
      },
      "file_extension": ".py",
      "mimetype": "text/x-python",
      "name": "python",
      "nbconvert_exporter": "python",
      "pygments_lexer": "ipython3",
      "version": "3.7.0"
    },
    "colab": {
      "provenance": [],
      "include_colab_link": true
    }
  },
  "nbformat": 4,
  "nbformat_minor": 0
}