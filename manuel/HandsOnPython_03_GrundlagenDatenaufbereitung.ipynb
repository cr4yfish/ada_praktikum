{
  "cells": [
    {
      "cell_type": "markdown",
      "metadata": {
        "id": "ayulqe04IVWd"
      },
      "source": [
        "# Hands On Python 3 - Datenaufbereitung\n",
        "Dieses Notebook zeigt wie\n",
        "- man Daten aus zwei csv Dateien zu einem Datensatz zusammenfügen kann\n",
        "- wie man mit nicht existenten Werten (NaN - Not a Number) umgeht\n",
        "- wie man Zeitreihen mit unterschiedlichen Frequenzen auf eine gemeinsame Frequenz bringen kann"
      ]
    },
    {
      "cell_type": "markdown",
      "metadata": {
        "id": "APrNMW-1IVWf"
      },
      "source": [
        "## Notwendige Bibliotheken importieren"
      ]
    },
    {
      "cell_type": "code",
      "execution_count": 35,
      "metadata": {
        "colab": {
          "base_uri": "https://localhost:8080/"
        },
        "id": "HlOFkwRNIVWg",
        "outputId": "d59e2676-361d-4e28-cca4-c3624bb54018"
      },
      "outputs": [],
      "source": [
        "# notwendige Bibliotheken importieren\n",
        "import pandas as pd\n",
        "import numpy as np\n",
        "import matplotlib.pyplot as plt\n",
        "import seaborn as sns\n",
        "#from google.colab import drive\n",
        "#drive.mount('/content/drive', force_remount=True)"
      ]
    },
    {
      "cell_type": "markdown",
      "metadata": {
        "id": "Okq6PkpWIVWh"
      },
      "source": [
        "## Daten einlesen"
      ]
    },
    {
      "cell_type": "code",
      "execution_count": 36,
      "metadata": {
        "id": "hp_SM78yIVWi"
      },
      "outputs": [],
      "source": [
        "# Daten einlesen\n",
        "\n",
        "# Daten der 1. Quelle\n",
        "#rawData1 = pd.read_csv('/content/drive/My Drive/source1.csv')\n",
        "rawData1 = pd.read_csv(\"../data/source1.csv\")\n",
        "\n",
        "# Lesen Sie die Daten der 2. Quelle ein\n",
        "#rawData2 = pd.read_csv('/content/drive/My Drive/source2.csv')\n",
        "rawData2 = pd.read_csv(\"../data/source2.csv\")"
      ]
    },
    {
      "cell_type": "code",
      "execution_count": 37,
      "metadata": {
        "id": "uvPZ5Zy5IVWi"
      },
      "outputs": [
        {
          "name": "stdout",
          "output_type": "stream",
          "text": [
            "(135, 5)\n"
          ]
        },
        {
          "data": {
            "text/plain": [
              "(45, 2)"
            ]
          },
          "execution_count": 37,
          "metadata": {},
          "output_type": "execute_result"
        }
      ],
      "source": [
        "# Anzahl der Zeilen und Spalten ausgeben \n",
        "\n",
        "# Geben Sie Zeilen und Spalten des 1. Datensatzes von Quelle 1 aus\n",
        "print(rawData1.shape)\n",
        "\n",
        "# Geben Sie Zeilen und Spalten des 2. Datensatzes von Quelle 2 aus\n",
        "rawData2.shape\n"
      ]
    },
    {
      "cell_type": "code",
      "execution_count": 38,
      "metadata": {
        "id": "3szOqgUMIVWj"
      },
      "outputs": [
        {
          "data": {
            "text/html": [
              "<div>\n",
              "<style scoped>\n",
              "    .dataframe tbody tr th:only-of-type {\n",
              "        vertical-align: middle;\n",
              "    }\n",
              "\n",
              "    .dataframe tbody tr th {\n",
              "        vertical-align: top;\n",
              "    }\n",
              "\n",
              "    .dataframe thead th {\n",
              "        text-align: right;\n",
              "    }\n",
              "</style>\n",
              "<table border=\"1\" class=\"dataframe\">\n",
              "  <thead>\n",
              "    <tr style=\"text-align: right;\">\n",
              "      <th></th>\n",
              "      <th>Date</th>\n",
              "      <th>Energy</th>\n",
              "      <th>Light</th>\n",
              "      <th>CO2</th>\n",
              "      <th>Occupancy</th>\n",
              "    </tr>\n",
              "  </thead>\n",
              "  <tbody>\n",
              "    <tr>\n",
              "      <th>0</th>\n",
              "      <td>2015-02-02 14:15:00</td>\n",
              "      <td>26.285636</td>\n",
              "      <td>527.283333</td>\n",
              "      <td>785.951515</td>\n",
              "      <td>1.0</td>\n",
              "    </tr>\n",
              "    <tr>\n",
              "      <th>1</th>\n",
              "      <td>2015-02-02 14:30:00</td>\n",
              "      <td>27.016313</td>\n",
              "      <td>481.697917</td>\n",
              "      <td>894.539583</td>\n",
              "      <td>1.0</td>\n",
              "    </tr>\n",
              "    <tr>\n",
              "      <th>2</th>\n",
              "      <td>2015-02-02 14:45:00</td>\n",
              "      <td>27.612107</td>\n",
              "      <td>499.415646</td>\n",
              "      <td>992.291327</td>\n",
              "      <td>1.0</td>\n",
              "    </tr>\n",
              "    <tr>\n",
              "      <th>3</th>\n",
              "      <td>2015-02-02 15:00:00</td>\n",
              "      <td>28.006019</td>\n",
              "      <td>456.436190</td>\n",
              "      <td>1051.151905</td>\n",
              "      <td>1.0</td>\n",
              "    </tr>\n",
              "    <tr>\n",
              "      <th>4</th>\n",
              "      <td>2015-02-02 15:15:00</td>\n",
              "      <td>28.489948</td>\n",
              "      <td>464.760417</td>\n",
              "      <td>1101.779167</td>\n",
              "      <td>1.0</td>\n",
              "    </tr>\n",
              "  </tbody>\n",
              "</table>\n",
              "</div>"
            ],
            "text/plain": [
              "                  Date     Energy       Light          CO2  Occupancy\n",
              "0  2015-02-02 14:15:00  26.285636  527.283333   785.951515        1.0\n",
              "1  2015-02-02 14:30:00  27.016313  481.697917   894.539583        1.0\n",
              "2  2015-02-02 14:45:00  27.612107  499.415646   992.291327        1.0\n",
              "3  2015-02-02 15:00:00  28.006019  456.436190  1051.151905        1.0\n",
              "4  2015-02-02 15:15:00  28.489948  464.760417  1101.779167        1.0"
            ]
          },
          "execution_count": 38,
          "metadata": {},
          "output_type": "execute_result"
        }
      ],
      "source": [
        "# Geben Sie die ersten Zeilen von Quelle 1 aus:\n",
        "rawData1.head()"
      ]
    },
    {
      "cell_type": "code",
      "execution_count": 39,
      "metadata": {
        "id": "x5Bp-vuNIVWj"
      },
      "outputs": [
        {
          "data": {
            "text/html": [
              "<div>\n",
              "<style scoped>\n",
              "    .dataframe tbody tr th:only-of-type {\n",
              "        vertical-align: middle;\n",
              "    }\n",
              "\n",
              "    .dataframe tbody tr th {\n",
              "        vertical-align: top;\n",
              "    }\n",
              "\n",
              "    .dataframe thead th {\n",
              "        text-align: right;\n",
              "    }\n",
              "</style>\n",
              "<table border=\"1\" class=\"dataframe\">\n",
              "  <thead>\n",
              "    <tr style=\"text-align: right;\">\n",
              "      <th></th>\n",
              "      <th>Date</th>\n",
              "      <th>Temperature</th>\n",
              "    </tr>\n",
              "  </thead>\n",
              "  <tbody>\n",
              "    <tr>\n",
              "      <th>0</th>\n",
              "      <td>2015-02-02 14:00:00</td>\n",
              "      <td>23.657118</td>\n",
              "    </tr>\n",
              "    <tr>\n",
              "      <th>1</th>\n",
              "      <td>2015-02-02 15:00:00</td>\n",
              "      <td>23.293950</td>\n",
              "    </tr>\n",
              "    <tr>\n",
              "      <th>2</th>\n",
              "      <td>2015-02-02 16:00:00</td>\n",
              "      <td>22.773142</td>\n",
              "    </tr>\n",
              "    <tr>\n",
              "      <th>3</th>\n",
              "      <td>2015-02-02 17:00:00</td>\n",
              "      <td>22.534520</td>\n",
              "    </tr>\n",
              "    <tr>\n",
              "      <th>4</th>\n",
              "      <td>2015-02-02 18:00:00</td>\n",
              "      <td>21.993372</td>\n",
              "    </tr>\n",
              "  </tbody>\n",
              "</table>\n",
              "</div>"
            ],
            "text/plain": [
              "                  Date  Temperature\n",
              "0  2015-02-02 14:00:00    23.657118\n",
              "1  2015-02-02 15:00:00    23.293950\n",
              "2  2015-02-02 16:00:00    22.773142\n",
              "3  2015-02-02 17:00:00    22.534520\n",
              "4  2015-02-02 18:00:00    21.993372"
            ]
          },
          "execution_count": 39,
          "metadata": {},
          "output_type": "execute_result"
        }
      ],
      "source": [
        "# Geben Sie die ersten Zeilen von Quelle 2 aus:\n",
        "rawData2.head()"
      ]
    },
    {
      "cell_type": "code",
      "execution_count": 40,
      "metadata": {
        "id": "GPRBiH-7IVWk"
      },
      "outputs": [
        {
          "data": {
            "text/html": [
              "<div>\n",
              "<style scoped>\n",
              "    .dataframe tbody tr th:only-of-type {\n",
              "        vertical-align: middle;\n",
              "    }\n",
              "\n",
              "    .dataframe tbody tr th {\n",
              "        vertical-align: top;\n",
              "    }\n",
              "\n",
              "    .dataframe thead th {\n",
              "        text-align: right;\n",
              "    }\n",
              "</style>\n",
              "<table border=\"1\" class=\"dataframe\">\n",
              "  <thead>\n",
              "    <tr style=\"text-align: right;\">\n",
              "      <th></th>\n",
              "      <th>Date</th>\n",
              "      <th>Energy</th>\n",
              "      <th>Light</th>\n",
              "      <th>CO2</th>\n",
              "      <th>Occupancy</th>\n",
              "    </tr>\n",
              "  </thead>\n",
              "  <tbody>\n",
              "    <tr>\n",
              "      <th>130</th>\n",
              "      <td>2015-02-03 22:45:00</td>\n",
              "      <td>25.365469</td>\n",
              "      <td>0.0</td>\n",
              "      <td>570.291667</td>\n",
              "      <td>0.0</td>\n",
              "    </tr>\n",
              "    <tr>\n",
              "      <th>131</th>\n",
              "      <td>2015-02-03 23:00:00</td>\n",
              "      <td>25.242750</td>\n",
              "      <td>0.0</td>\n",
              "      <td>563.398810</td>\n",
              "      <td>0.0</td>\n",
              "    </tr>\n",
              "    <tr>\n",
              "      <th>132</th>\n",
              "      <td>2015-02-03 23:15:00</td>\n",
              "      <td>25.146556</td>\n",
              "      <td>0.0</td>\n",
              "      <td>559.753333</td>\n",
              "      <td>0.0</td>\n",
              "    </tr>\n",
              "    <tr>\n",
              "      <th>133</th>\n",
              "      <td>2015-02-03 23:30:00</td>\n",
              "      <td>25.029479</td>\n",
              "      <td>0.0</td>\n",
              "      <td>555.600000</td>\n",
              "      <td>0.0</td>\n",
              "    </tr>\n",
              "    <tr>\n",
              "      <th>134</th>\n",
              "      <td>2015-02-03 23:45:00</td>\n",
              "      <td>24.941250</td>\n",
              "      <td>0.0</td>\n",
              "      <td>553.130952</td>\n",
              "      <td>0.0</td>\n",
              "    </tr>\n",
              "  </tbody>\n",
              "</table>\n",
              "</div>"
            ],
            "text/plain": [
              "                    Date     Energy  Light         CO2  Occupancy\n",
              "130  2015-02-03 22:45:00  25.365469    0.0  570.291667        0.0\n",
              "131  2015-02-03 23:00:00  25.242750    0.0  563.398810        0.0\n",
              "132  2015-02-03 23:15:00  25.146556    0.0  559.753333        0.0\n",
              "133  2015-02-03 23:30:00  25.029479    0.0  555.600000        0.0\n",
              "134  2015-02-03 23:45:00  24.941250    0.0  553.130952        0.0"
            ]
          },
          "execution_count": 40,
          "metadata": {},
          "output_type": "execute_result"
        }
      ],
      "source": [
        "# Geben Sie die letzten Zeilen von Quelle 1 aus:\n",
        "rawData1.tail()"
      ]
    },
    {
      "cell_type": "code",
      "execution_count": 41,
      "metadata": {
        "id": "KHPvNXNBIVWk"
      },
      "outputs": [
        {
          "data": {
            "text/html": [
              "<div>\n",
              "<style scoped>\n",
              "    .dataframe tbody tr th:only-of-type {\n",
              "        vertical-align: middle;\n",
              "    }\n",
              "\n",
              "    .dataframe tbody tr th {\n",
              "        vertical-align: top;\n",
              "    }\n",
              "\n",
              "    .dataframe thead th {\n",
              "        text-align: right;\n",
              "    }\n",
              "</style>\n",
              "<table border=\"1\" class=\"dataframe\">\n",
              "  <thead>\n",
              "    <tr style=\"text-align: right;\">\n",
              "      <th></th>\n",
              "      <th>Date</th>\n",
              "      <th>Temperature</th>\n",
              "    </tr>\n",
              "  </thead>\n",
              "  <tbody>\n",
              "    <tr>\n",
              "      <th>40</th>\n",
              "      <td>2015-02-04 06:00:00</td>\n",
              "      <td>20.576972</td>\n",
              "    </tr>\n",
              "    <tr>\n",
              "      <th>41</th>\n",
              "      <td>2015-02-04 07:00:00</td>\n",
              "      <td>20.509123</td>\n",
              "    </tr>\n",
              "    <tr>\n",
              "      <th>42</th>\n",
              "      <td>2015-02-04 08:00:00</td>\n",
              "      <td>20.957842</td>\n",
              "    </tr>\n",
              "    <tr>\n",
              "      <th>43</th>\n",
              "      <td>2015-02-04 09:00:00</td>\n",
              "      <td>22.234915</td>\n",
              "    </tr>\n",
              "    <tr>\n",
              "      <th>44</th>\n",
              "      <td>2015-02-04 10:00:00</td>\n",
              "      <td>23.946885</td>\n",
              "    </tr>\n",
              "  </tbody>\n",
              "</table>\n",
              "</div>"
            ],
            "text/plain": [
              "                   Date  Temperature\n",
              "40  2015-02-04 06:00:00    20.576972\n",
              "41  2015-02-04 07:00:00    20.509123\n",
              "42  2015-02-04 08:00:00    20.957842\n",
              "43  2015-02-04 09:00:00    22.234915\n",
              "44  2015-02-04 10:00:00    23.946885"
            ]
          },
          "execution_count": 41,
          "metadata": {},
          "output_type": "execute_result"
        }
      ],
      "source": [
        "# Geben Sie die letzten Zeilen von Quelle 2 aus\n",
        "rawData2.tail()"
      ]
    },
    {
      "cell_type": "markdown",
      "metadata": {
        "id": "wabmQ66lIVWk"
      },
      "source": [
        "## Daten auf fehlende Werte hin überprüfen"
      ]
    },
    {
      "cell_type": "code",
      "execution_count": 42,
      "metadata": {
        "id": "Q65ZNKE1IVWl"
      },
      "outputs": [
        {
          "data": {
            "text/plain": [
              "Date           0\n",
              "Temperature    0\n",
              "dtype: int64"
            ]
          },
          "execution_count": 42,
          "metadata": {},
          "output_type": "execute_result"
        }
      ],
      "source": [
        "# Geben Sie sich die Anzahl der NaNs in den Spalten von Quelle 2 aus:\n",
        "rawData2.isna().sum()"
      ]
    },
    {
      "cell_type": "code",
      "execution_count": 43,
      "metadata": {
        "id": "HNS0_W7PIVWl"
      },
      "outputs": [],
      "source": [
        "# Sofern der Datensatz keine NaNs erhält --> Kopie der Rohdaten namens data2 erstellen und damit direkt weiterarbeiten:\n",
        "data2 = rawData2.copy()"
      ]
    },
    {
      "cell_type": "code",
      "execution_count": 44,
      "metadata": {
        "id": "tebtv3pFIVWl"
      },
      "outputs": [
        {
          "data": {
            "text/plain": [
              "Date          0\n",
              "Energy        0\n",
              "Light        10\n",
              "CO2           0\n",
              "Occupancy     0\n",
              "dtype: int64"
            ]
          },
          "execution_count": 44,
          "metadata": {},
          "output_type": "execute_result"
        }
      ],
      "source": [
        "# Wie sieht es bei rawData1 aus? Geben Sie für rawData1 die Anzahl der NaNs in den Spalten aus\n",
        "rawData1.isna().sum()"
      ]
    },
    {
      "cell_type": "markdown",
      "metadata": {
        "id": "L6TZB-5cIVWm"
      },
      "source": [
        "## Mit NaNs umgehen"
      ]
    },
    {
      "cell_type": "markdown",
      "metadata": {
        "id": "bI_Gr0wzIVWm"
      },
      "source": [
        "### Möglichkeit 1: alle Zeilen, in denen mindestens 1x NaN vorkommt, löschen"
      ]
    },
    {
      "cell_type": "code",
      "execution_count": 45,
      "metadata": {
        "colab": {
          "base_uri": "https://localhost:8080/"
        },
        "id": "O3RaFZ-OIVWm",
        "outputId": "d28c9197-e696-47d0-bfb8-f7f9a5dd02d0"
      },
      "outputs": [
        {
          "data": {
            "text/plain": [
              "Date         0\n",
              "Energy       0\n",
              "Light        0\n",
              "CO2          0\n",
              "Occupancy    0\n",
              "dtype: int64"
            ]
          },
          "execution_count": 45,
          "metadata": {},
          "output_type": "execute_result"
        }
      ],
      "source": [
        "# Kopie der Rohdaten anlegen\n",
        "data1_del = rawData1.copy() \n",
        "\n",
        "# Zeilen mit mind. 1x NaN löschen (d.h. in irgendeiner Spalte kommt ein NaN vor --> Zeile wird gelöscht)\n",
        "data1_del.dropna(inplace=True)\n",
        "\n",
        "# Überprüfen\n",
        "data1_del.isna().sum()"
      ]
    },
    {
      "cell_type": "markdown",
      "metadata": {
        "id": "9gM69txwIVWm"
      },
      "source": [
        "### Möglichkeit 2: Fehlende Werte durch interpolierte Werte ersetzen"
      ]
    },
    {
      "cell_type": "markdown",
      "metadata": {
        "id": "d16mQyUNIVWn"
      },
      "source": [
        "### Linear Interpolieren"
      ]
    },
    {
      "cell_type": "code",
      "execution_count": 46,
      "metadata": {
        "id": "n5EB2DDrIVWn"
      },
      "outputs": [
        {
          "data": {
            "text/plain": [
              "Date         0\n",
              "Energy       0\n",
              "Light        0\n",
              "CO2          0\n",
              "Occupancy    0\n",
              "dtype: int64"
            ]
          },
          "execution_count": 46,
          "metadata": {},
          "output_type": "execute_result"
        }
      ],
      "source": [
        "# Führen Sie eine lineare Interpolation durch. Erstellen Sie sich dazu zunächst data1_ip als Kopie von rawData1\n",
        "data1_ip = rawData1.copy()\n",
        "\n",
        "# Führen Sie die Interpolation durch\n",
        "data1_ip.interpolate(inplace=True)\n",
        "\n",
        "# Geben Sie sich die Anzahl an NaN in den Spalten nach der Interpolation aus:\n",
        "data1_ip.isna().sum()"
      ]
    },
    {
      "cell_type": "code",
      "execution_count": 47,
      "metadata": {
        "id": "5oZIYaFkIVWo",
        "scrolled": true
      },
      "outputs": [
        {
          "data": {
            "text/plain": [
              "<Axes: >"
            ]
          },
          "execution_count": 47,
          "metadata": {},
          "output_type": "execute_result"
        },
        {
          "data": {
            "image/png": "[encoded data removed]",
            "text/plain": [
              "<Figure size 1800x400 with 1 Axes>"
            ]
          },
          "metadata": {},
          "output_type": "display_data"
        }
      ],
      "source": [
        "# Plotten der alten Zeitreihe\n",
        "plt.figure(figsize=(18, 4))\n",
        "rawData1['Light'].plot(marker='o')   "
      ]
    },
    {
      "cell_type": "code",
      "execution_count": 48,
      "metadata": {
        "id": "PqC9XVPlIVWo"
      },
      "outputs": [
        {
          "data": {
            "text/plain": [
              "<Axes: >"
            ]
          },
          "execution_count": 48,
          "metadata": {},
          "output_type": "execute_result"
        },
        {
          "data": {
            "image/png": "[encoded data removed]",
            "text/plain": [
              "<Figure size 1800x400 with 1 Axes>"
            ]
          },
          "metadata": {},
          "output_type": "display_data"
        }
      ],
      "source": [
        "#neue Zeitreihe mit interpolierten Werten plotten\n",
        "plt.figure(figsize=(18, 4))\n",
        "data1_ip['Light'].plot(marker='o')"
      ]
    },
    {
      "cell_type": "markdown",
      "metadata": {
        "id": "04agxgU_rB29"
      },
      "source": [
        "Wie zufrieden sind Sie mit der Interpolation?\n",
        "\n",
        "\n",
        "...."
      ]
    },
    {
      "cell_type": "code",
      "execution_count": 49,
      "metadata": {
        "colab": {
          "base_uri": "https://localhost:8080/"
        },
        "id": "fuVjLp_qIVWp",
        "outputId": "b12801bb-c0ae-409b-f215-971759f97d50"
      },
      "outputs": [
        {
          "data": {
            "text/plain": [
              "Date         0\n",
              "Energy       0\n",
              "Light        0\n",
              "CO2          0\n",
              "Occupancy    0\n",
              "dtype: int64"
            ]
          },
          "execution_count": 49,
          "metadata": {},
          "output_type": "execute_result"
        }
      ],
      "source": [
        "# Grundsätzlich ist auch möglich mit Polynomfunktionen zu interpolieren.\n",
        "# Interpolieren Sie quadratisch (method='polynomial', order=2)\n",
        "data1_ip2 = rawData1.copy()\n",
        "data1_ip2 = data1_ip2.interpolate(method='polynomial', order=2)\n",
        "\n",
        "# Anzahl an NaN in Spalten ausgeben\n",
        "data1_ip2.isna().sum()\n"
      ]
    },
    {
      "cell_type": "code",
      "execution_count": 50,
      "metadata": {
        "id": "G-_eL_trIVWp"
      },
      "outputs": [
        {
          "data": {
            "text/plain": [
              "Text(0.5, 1.0, 'No Interpolation')"
            ]
          },
          "execution_count": 50,
          "metadata": {},
          "output_type": "execute_result"
        },
        {
          "data": {
            "image/png": "[encoded data removed]",
            "text/plain": [
              "<Figure size 1800x400 with 1 Axes>"
            ]
          },
          "metadata": {},
          "output_type": "display_data"
        }
      ],
      "source": [
        "# Plotten Sie zum Vergleich wieder die alte und die neue Zeitreihe \n",
        "# Plot der alten Zeitreihe:\n",
        "plt.figure(figsize=(18, 4))\n",
        "rawData1['Light'].plot(marker='o')\n",
        "plt.title(\"No Interpolation\")\n"
      ]
    },
    {
      "cell_type": "code",
      "execution_count": 51,
      "metadata": {},
      "outputs": [
        {
          "data": {
            "text/plain": [
              "Text(0.5, 1.0, 'Linear Interpolation')"
            ]
          },
          "execution_count": 51,
          "metadata": {},
          "output_type": "execute_result"
        },
        {
          "data": {
            "image/png": "[encoded data removed]",
            "text/plain": [
              "<Figure size 1800x400 with 1 Axes>"
            ]
          },
          "metadata": {},
          "output_type": "display_data"
        }
      ],
      "source": [
        "plt.figure(figsize=(18, 4))\n",
        "data1_ip[\"Light\"].plot(marker='o')\n",
        "plt.title(\"Linear Interpolation\")"
      ]
    },
    {
      "cell_type": "code",
      "execution_count": 52,
      "metadata": {
        "id": "AH0ggExVIVWq"
      },
      "outputs": [
        {
          "data": {
            "text/plain": [
              "Text(0.5, 1.0, 'Quadratic and linear Interpolation in Comparison')"
            ]
          },
          "execution_count": 52,
          "metadata": {},
          "output_type": "execute_result"
        },
        {
          "data": {
            "image/png": "[encoded data removed]",
            "text/plain": [
              "<Figure size 1800x400 with 1 Axes>"
            ]
          },
          "metadata": {},
          "output_type": "display_data"
        }
      ],
      "source": [
        "# Plot der neuen Zeitreihe:\n",
        "plt.figure(figsize=(18, 4))\n",
        "data1_ip2[\"Light\"].plot(marker='o')\n",
        "data1_ip[\"Light\"].plot(marker='o')\n",
        "plt.legend([\"quadratic\", \"linear\"])\n",
        "plt.title(\"Quadratic and linear Interpolation in Comparison\")"
      ]
    },
    {
      "cell_type": "markdown",
      "metadata": {
        "id": "dFmSNMQPrWQK"
      },
      "source": [
        "Hat sich die quadratische Interpolation im Vergleich zur linearen gelohnt? Welches der beiden Interpolationsverfahren würden Sie wählen?\n",
        "\n",
        "No, the quadratic interpolation has more anomalies than the linear one. I would choose the linear interpolation."
      ]
    },
    {
      "cell_type": "markdown",
      "metadata": {
        "id": "bEL2BvJFIVWq"
      },
      "source": [
        "## Zeitstempel als Index setzen\n",
        "- Momentan sind die Zeilenindizes einfach durchnummeriert: 0,1,2,...\n",
        "- Wenn der Zeitstempel als Index gesetzt wird, kann man einfacher arbeiten\n",
        "- Dafür muss der Zeitstempel als erstes in das Format datetime gebracht werden, damit Python ihn als Zeitstempel erkennt"
      ]
    },
    {
      "cell_type": "code",
      "execution_count": 53,
      "metadata": {
        "colab": {
          "base_uri": "https://localhost:8080/"
        },
        "id": "TLtd5BPyIVWq",
        "outputId": "0deefdcb-f4fa-4b19-8e8d-ca6bd7d33b0e"
      },
      "outputs": [
        {
          "data": {
            "text/plain": [
              "Date          object\n",
              "Energy       float64\n",
              "Light        float64\n",
              "CO2          float64\n",
              "Occupancy    float64\n",
              "dtype: object"
            ]
          },
          "execution_count": 53,
          "metadata": {},
          "output_type": "execute_result"
        }
      ],
      "source": [
        "# die Spalte Date ist noch nicht im datetime Format\n",
        "data1_ip.dtypes"
      ]
    },
    {
      "cell_type": "code",
      "execution_count": 54,
      "metadata": {
        "id": "vIvZgHXsIVWr"
      },
      "outputs": [],
      "source": [
        "# Bringen Sie die Spalte Date ins datetime Format \n",
        "data1_ip['Date'] = pd.to_datetime(data1_ip['Date'])"
      ]
    },
    {
      "cell_type": "code",
      "execution_count": 55,
      "metadata": {
        "id": "8Ft6Y1nNIVWr"
      },
      "outputs": [
        {
          "data": {
            "text/html": [
              "<div>\n",
              "<style scoped>\n",
              "    .dataframe tbody tr th:only-of-type {\n",
              "        vertical-align: middle;\n",
              "    }\n",
              "\n",
              "    .dataframe tbody tr th {\n",
              "        vertical-align: top;\n",
              "    }\n",
              "\n",
              "    .dataframe thead th {\n",
              "        text-align: right;\n",
              "    }\n",
              "</style>\n",
              "<table border=\"1\" class=\"dataframe\">\n",
              "  <thead>\n",
              "    <tr style=\"text-align: right;\">\n",
              "      <th></th>\n",
              "    </tr>\n",
              "  </thead>\n",
              "  <tbody>\n",
              "    <tr>\n",
              "      <th>0</th>\n",
              "    </tr>\n",
              "    <tr>\n",
              "      <th>1</th>\n",
              "    </tr>\n",
              "    <tr>\n",
              "      <th>2</th>\n",
              "    </tr>\n",
              "    <tr>\n",
              "      <th>3</th>\n",
              "    </tr>\n",
              "    <tr>\n",
              "      <th>4</th>\n",
              "    </tr>\n",
              "    <tr>\n",
              "      <th>...</th>\n",
              "    </tr>\n",
              "    <tr>\n",
              "      <th>130</th>\n",
              "    </tr>\n",
              "    <tr>\n",
              "      <th>131</th>\n",
              "    </tr>\n",
              "    <tr>\n",
              "      <th>132</th>\n",
              "    </tr>\n",
              "    <tr>\n",
              "      <th>133</th>\n",
              "    </tr>\n",
              "    <tr>\n",
              "      <th>134</th>\n",
              "    </tr>\n",
              "  </tbody>\n",
              "</table>\n",
              "<p>135 rows × 0 columns</p>\n",
              "</div>"
            ],
            "text/plain": [
              "Empty DataFrame\n",
              "Columns: []\n",
              "Index: [0, 1, 2, 3, 4, 5, 6, 7, 8, 9, 10, 11, 12, 13, 14, 15, 16, 17, 18, 19, 20, 21, 22, 23, 24, 25, 26, 27, 28, 29, 30, 31, 32, 33, 34, 35, 36, 37, 38, 39, 40, 41, 42, 43, 44, 45, 46, 47, 48, 49, 50, 51, 52, 53, 54, 55, 56, 57, 58, 59, 60, 61, 62, 63, 64, 65, 66, 67, 68, 69, 70, 71, 72, 73, 74, 75, 76, 77, 78, 79, 80, 81, 82, 83, 84, 85, 86, 87, 88, 89, 90, 91, 92, 93, 94, 95, 96, 97, 98, 99, ...]\n",
              "\n",
              "[135 rows x 0 columns]"
            ]
          },
          "execution_count": 55,
          "metadata": {},
          "output_type": "execute_result"
        }
      ],
      "source": [
        "# Indizieren Sie mit der Zeitstempel-Spalte \n",
        "# data1_ip.set_index('Date', inplace=True) # <- already done, will throw error if run again\n",
        "\n",
        "# Kontrollieren Sie das durch Ausgabe der ersten Zeilen des Datensatzes. \n",
        "data1_ip.iloc[:,0:0]"
      ]
    },
    {
      "cell_type": "code",
      "execution_count": 56,
      "metadata": {},
      "outputs": [
        {
          "data": {
            "text/html": [
              "<div>\n",
              "<style scoped>\n",
              "    .dataframe tbody tr th:only-of-type {\n",
              "        vertical-align: middle;\n",
              "    }\n",
              "\n",
              "    .dataframe tbody tr th {\n",
              "        vertical-align: top;\n",
              "    }\n",
              "\n",
              "    .dataframe thead th {\n",
              "        text-align: right;\n",
              "    }\n",
              "</style>\n",
              "<table border=\"1\" class=\"dataframe\">\n",
              "  <thead>\n",
              "    <tr style=\"text-align: right;\">\n",
              "      <th></th>\n",
              "      <th>Date</th>\n",
              "      <th>Energy</th>\n",
              "      <th>Light</th>\n",
              "      <th>CO2</th>\n",
              "      <th>Occupancy</th>\n",
              "    </tr>\n",
              "  </thead>\n",
              "  <tbody>\n",
              "    <tr>\n",
              "      <th>0</th>\n",
              "      <td>2015-02-02 14:15:00</td>\n",
              "      <td>26.285636</td>\n",
              "      <td>527.283333</td>\n",
              "      <td>785.951515</td>\n",
              "      <td>1.0</td>\n",
              "    </tr>\n",
              "    <tr>\n",
              "      <th>1</th>\n",
              "      <td>2015-02-02 14:30:00</td>\n",
              "      <td>27.016313</td>\n",
              "      <td>481.697917</td>\n",
              "      <td>894.539583</td>\n",
              "      <td>1.0</td>\n",
              "    </tr>\n",
              "    <tr>\n",
              "      <th>2</th>\n",
              "      <td>2015-02-02 14:45:00</td>\n",
              "      <td>27.612107</td>\n",
              "      <td>499.415646</td>\n",
              "      <td>992.291327</td>\n",
              "      <td>1.0</td>\n",
              "    </tr>\n",
              "    <tr>\n",
              "      <th>3</th>\n",
              "      <td>2015-02-02 15:00:00</td>\n",
              "      <td>28.006019</td>\n",
              "      <td>456.436190</td>\n",
              "      <td>1051.151905</td>\n",
              "      <td>1.0</td>\n",
              "    </tr>\n",
              "    <tr>\n",
              "      <th>4</th>\n",
              "      <td>2015-02-02 15:15:00</td>\n",
              "      <td>28.489948</td>\n",
              "      <td>464.760417</td>\n",
              "      <td>1101.779167</td>\n",
              "      <td>1.0</td>\n",
              "    </tr>\n",
              "  </tbody>\n",
              "</table>\n",
              "</div>"
            ],
            "text/plain": [
              "                 Date     Energy       Light          CO2  Occupancy\n",
              "0 2015-02-02 14:15:00  26.285636  527.283333   785.951515        1.0\n",
              "1 2015-02-02 14:30:00  27.016313  481.697917   894.539583        1.0\n",
              "2 2015-02-02 14:45:00  27.612107  499.415646   992.291327        1.0\n",
              "3 2015-02-02 15:00:00  28.006019  456.436190  1051.151905        1.0\n",
              "4 2015-02-02 15:15:00  28.489948  464.760417  1101.779167        1.0"
            ]
          },
          "execution_count": 56,
          "metadata": {},
          "output_type": "execute_result"
        }
      ],
      "source": [
        "data1_ip.head()"
      ]
    },
    {
      "cell_type": "markdown",
      "metadata": {
        "id": "O25wCPosryDD"
      },
      "source": [
        "Wieso wird bei wiederholtem Ausführen obiger Zelle ein Fehler geworfen? Müssen Sie etwas am Code korrigieren?\n",
        "\n",
        "The Date column is already the index, which means there is no \"Date\" column per se anymore. Therefore the code throws a \"missing column\" error - since there technically is no \"date\" column anymore as seen in the code above.\n",
        "\n",
        "To circument the error, you can add a line above to reset the index before setting it."
      ]
    },
    {
      "cell_type": "code",
      "execution_count": 57,
      "metadata": {
        "id": "SgELhwmFIVWr"
      },
      "outputs": [
        {
          "data": {
            "text/html": [
              "<div>\n",
              "<style scoped>\n",
              "    .dataframe tbody tr th:only-of-type {\n",
              "        vertical-align: middle;\n",
              "    }\n",
              "\n",
              "    .dataframe tbody tr th {\n",
              "        vertical-align: top;\n",
              "    }\n",
              "\n",
              "    .dataframe thead th {\n",
              "        text-align: right;\n",
              "    }\n",
              "</style>\n",
              "<table border=\"1\" class=\"dataframe\">\n",
              "  <thead>\n",
              "    <tr style=\"text-align: right;\">\n",
              "      <th></th>\n",
              "      <th>Temperature</th>\n",
              "    </tr>\n",
              "    <tr>\n",
              "      <th>Date</th>\n",
              "      <th></th>\n",
              "    </tr>\n",
              "  </thead>\n",
              "  <tbody>\n",
              "    <tr>\n",
              "      <th>2015-02-02 14:00:00</th>\n",
              "      <td>23.657118</td>\n",
              "    </tr>\n",
              "    <tr>\n",
              "      <th>2015-02-02 15:00:00</th>\n",
              "      <td>23.293950</td>\n",
              "    </tr>\n",
              "    <tr>\n",
              "      <th>2015-02-02 16:00:00</th>\n",
              "      <td>22.773142</td>\n",
              "    </tr>\n",
              "    <tr>\n",
              "      <th>2015-02-02 17:00:00</th>\n",
              "      <td>22.534520</td>\n",
              "    </tr>\n",
              "    <tr>\n",
              "      <th>2015-02-02 18:00:00</th>\n",
              "      <td>21.993372</td>\n",
              "    </tr>\n",
              "  </tbody>\n",
              "</table>\n",
              "</div>"
            ],
            "text/plain": [
              "                     Temperature\n",
              "Date                            \n",
              "2015-02-02 14:00:00    23.657118\n",
              "2015-02-02 15:00:00    23.293950\n",
              "2015-02-02 16:00:00    22.773142\n",
              "2015-02-02 17:00:00    22.534520\n",
              "2015-02-02 18:00:00    21.993372"
            ]
          },
          "execution_count": 57,
          "metadata": {},
          "output_type": "execute_result"
        }
      ],
      "source": [
        "# Indizieren Sie auch data2 mit dessen Zeitstempel\n",
        "data2[\"Date\"] = pd.to_datetime(data2[\"Date\"])\n",
        "data2.set_index('Date', inplace=True)\n",
        "data2.head()"
      ]
    },
    {
      "cell_type": "markdown",
      "metadata": {
        "id": "ddZVxF1aIVWs"
      },
      "source": [
        "## Datensätze zu einem Zusammenfügen\n",
        "- Problem: Die Datensätze haben unterschiedliche Frequenzen: Datensatz 1: 15min, Datensatz 2: stündlich\n",
        "- Möglichkeit 1: Nur die Indizes nehmen, die sowohl in Datensatz 1, als auch in Datensatz 2 sind, also jede volle Stunde\n",
        "- Möglichkeit 2: Den Datensatz mit der höheren Frequenz (Datensatz 1) runtersamplen, z.B. indem der stündliche Mittelwert oder die Summe über je eine Stunde gebildet wird"
      ]
    },
    {
      "cell_type": "markdown",
      "metadata": {
        "id": "LMPjks0xIVWs"
      },
      "source": [
        "Frage: Worauf muss man aufpassen, wenn man Möglichkeit 2 wählt?"
      ]
    },
    {
      "cell_type": "code",
      "execution_count": 58,
      "metadata": {},
      "outputs": [
        {
          "name": "stdout",
          "output_type": "stream",
          "text": [
            "                 Date     Energy       Light          CO2  Occupancy\n",
            "0 2015-02-02 14:15:00  26.285636  527.283333   785.951515        1.0\n",
            "1 2015-02-02 14:30:00  27.016313  481.697917   894.539583        1.0\n",
            "2 2015-02-02 14:45:00  27.612107  499.415646   992.291327        1.0\n",
            "3 2015-02-02 15:00:00  28.006019  456.436190  1051.151905        1.0\n",
            "4 2015-02-02 15:15:00  28.489948  464.760417  1101.779167        1.0\n",
            "                   Date     Energy  Light         CO2  Occupancy\n",
            "130 2015-02-03 22:45:00  25.365469    0.0  570.291667        0.0\n",
            "131 2015-02-03 23:00:00  25.242750    0.0  563.398810        0.0\n",
            "132 2015-02-03 23:15:00  25.146556    0.0  559.753333        0.0\n",
            "133 2015-02-03 23:30:00  25.029479    0.0  555.600000        0.0\n",
            "134 2015-02-03 23:45:00  24.941250    0.0  553.130952        0.0\n",
            "                     Temperature\n",
            "Date                            \n",
            "2015-02-02 14:00:00    23.657118\n",
            "2015-02-02 15:00:00    23.293950\n",
            "2015-02-02 16:00:00    22.773142\n",
            "2015-02-02 17:00:00    22.534520\n",
            "2015-02-02 18:00:00    21.993372\n",
            "                     Temperature\n",
            "Date                            \n",
            "2015-02-04 06:00:00    20.576972\n",
            "2015-02-04 07:00:00    20.509123\n",
            "2015-02-04 08:00:00    20.957842\n",
            "2015-02-04 09:00:00    22.234915\n",
            "2015-02-04 10:00:00    23.946885\n"
          ]
        }
      ],
      "source": [
        "print(data1_ip.head())\n",
        "print(data1_ip.tail())\n",
        "\n",
        "print(data2.head())\n",
        "print(data2.tail())"
      ]
    },
    {
      "cell_type": "code",
      "execution_count": 59,
      "metadata": {},
      "outputs": [
        {
          "data": {
            "text/plain": [
              "RangeIndex(start=0, stop=135, step=1)"
            ]
          },
          "execution_count": 59,
          "metadata": {},
          "output_type": "execute_result"
        }
      ],
      "source": [
        "data1_ip.index"
      ]
    },
    {
      "cell_type": "code",
      "execution_count": 60,
      "metadata": {},
      "outputs": [
        {
          "data": {
            "text/plain": [
              "DatetimeIndex(['2015-02-02 14:00:00', '2015-02-02 15:00:00',\n",
              "               '2015-02-02 16:00:00', '2015-02-02 17:00:00',\n",
              "               '2015-02-02 18:00:00', '2015-02-02 19:00:00',\n",
              "               '2015-02-02 20:00:00', '2015-02-02 21:00:00',\n",
              "               '2015-02-02 22:00:00', '2015-02-02 23:00:00',\n",
              "               '2015-02-03 00:00:00', '2015-02-03 01:00:00',\n",
              "               '2015-02-03 02:00:00', '2015-02-03 03:00:00',\n",
              "               '2015-02-03 04:00:00', '2015-02-03 05:00:00',\n",
              "               '2015-02-03 06:00:00', '2015-02-03 07:00:00',\n",
              "               '2015-02-03 08:00:00', '2015-02-03 09:00:00',\n",
              "               '2015-02-03 10:00:00', '2015-02-03 11:00:00',\n",
              "               '2015-02-03 12:00:00', '2015-02-03 13:00:00',\n",
              "               '2015-02-03 14:00:00', '2015-02-03 15:00:00',\n",
              "               '2015-02-03 16:00:00', '2015-02-03 17:00:00',\n",
              "               '2015-02-03 18:00:00', '2015-02-03 19:00:00',\n",
              "               '2015-02-03 20:00:00', '2015-02-03 21:00:00',\n",
              "               '2015-02-03 22:00:00', '2015-02-03 23:00:00',\n",
              "               '2015-02-04 00:00:00', '2015-02-04 01:00:00',\n",
              "               '2015-02-04 02:00:00', '2015-02-04 03:00:00',\n",
              "               '2015-02-04 04:00:00', '2015-02-04 05:00:00',\n",
              "               '2015-02-04 06:00:00', '2015-02-04 07:00:00',\n",
              "               '2015-02-04 08:00:00', '2015-02-04 09:00:00',\n",
              "               '2015-02-04 10:00:00'],\n",
              "              dtype='datetime64[ns]', name='Date', freq=None)"
            ]
          },
          "execution_count": 60,
          "metadata": {},
          "output_type": "execute_result"
        }
      ],
      "source": [
        "data2.index"
      ]
    },
    {
      "cell_type": "markdown",
      "metadata": {
        "id": "hC6QDGoTIVWs"
      },
      "source": [
        "Antwort: \n",
        "If we downsample the data, we have to make sure that we don't lose any important information. For example, if we downsample the data by taking the mean of every hour, we might lose important information about the maximum or minimum values of the data.\n",
        "So we won't be able to draw certain conclusions, like if the temperature was above a certain threshold for a certain amount of time, for example.\n",
        "\n",
        "Also, for the \"Occupancy\" column, there shouldn't be values between 0 and 1 since that doesn't make any sense. You can't build the mean of that column, so we would have to set it either to 0, 1 or NaN."
      ]
    },
    {
      "cell_type": "markdown",
      "metadata": {
        "id": "Lu9e7PuJIVWs"
      },
      "source": [
        "### Möglichkeit 1: Nur die Indizes nehmen, die sowohl in Datensatz 1, als auch in Datensatz 2 sind"
      ]
    },
    {
      "cell_type": "code",
      "execution_count": 61,
      "metadata": {
        "colab": {
          "base_uri": "https://localhost:8080/",
          "height": 237
        },
        "id": "bYOde3ExIVWs",
        "outputId": "d2d687ac-e25b-4960-8ba7-e9171c3693b0"
      },
      "outputs": [
        {
          "data": {
            "text/html": [
              "<div>\n",
              "<style scoped>\n",
              "    .dataframe tbody tr th:only-of-type {\n",
              "        vertical-align: middle;\n",
              "    }\n",
              "\n",
              "    .dataframe tbody tr th {\n",
              "        vertical-align: top;\n",
              "    }\n",
              "\n",
              "    .dataframe thead th {\n",
              "        text-align: right;\n",
              "    }\n",
              "</style>\n",
              "<table border=\"1\" class=\"dataframe\">\n",
              "  <thead>\n",
              "    <tr style=\"text-align: right;\">\n",
              "      <th></th>\n",
              "      <th>Date</th>\n",
              "      <th>Energy</th>\n",
              "      <th>Light</th>\n",
              "      <th>CO2</th>\n",
              "      <th>Occupancy</th>\n",
              "      <th>Temperature</th>\n",
              "    </tr>\n",
              "  </thead>\n",
              "  <tbody>\n",
              "    <tr>\n",
              "      <th>0</th>\n",
              "      <td>2015-02-02 14:15:00</td>\n",
              "      <td>26.285636</td>\n",
              "      <td>527.283333</td>\n",
              "      <td>785.951515</td>\n",
              "      <td>1.0</td>\n",
              "      <td>NaN</td>\n",
              "    </tr>\n",
              "    <tr>\n",
              "      <th>1</th>\n",
              "      <td>2015-02-02 14:30:00</td>\n",
              "      <td>27.016313</td>\n",
              "      <td>481.697917</td>\n",
              "      <td>894.539583</td>\n",
              "      <td>1.0</td>\n",
              "      <td>NaN</td>\n",
              "    </tr>\n",
              "    <tr>\n",
              "      <th>2</th>\n",
              "      <td>2015-02-02 14:45:00</td>\n",
              "      <td>27.612107</td>\n",
              "      <td>499.415646</td>\n",
              "      <td>992.291327</td>\n",
              "      <td>1.0</td>\n",
              "      <td>NaN</td>\n",
              "    </tr>\n",
              "    <tr>\n",
              "      <th>3</th>\n",
              "      <td>2015-02-02 15:00:00</td>\n",
              "      <td>28.006019</td>\n",
              "      <td>456.436190</td>\n",
              "      <td>1051.151905</td>\n",
              "      <td>1.0</td>\n",
              "      <td>NaN</td>\n",
              "    </tr>\n",
              "    <tr>\n",
              "      <th>4</th>\n",
              "      <td>2015-02-02 15:15:00</td>\n",
              "      <td>28.489948</td>\n",
              "      <td>464.760417</td>\n",
              "      <td>1101.779167</td>\n",
              "      <td>1.0</td>\n",
              "      <td>NaN</td>\n",
              "    </tr>\n",
              "  </tbody>\n",
              "</table>\n",
              "</div>"
            ],
            "text/plain": [
              "                 Date     Energy       Light          CO2  Occupancy  \\\n",
              "0 2015-02-02 14:15:00  26.285636  527.283333   785.951515        1.0   \n",
              "1 2015-02-02 14:30:00  27.016313  481.697917   894.539583        1.0   \n",
              "2 2015-02-02 14:45:00  27.612107  499.415646   992.291327        1.0   \n",
              "3 2015-02-02 15:00:00  28.006019  456.436190  1051.151905        1.0   \n",
              "4 2015-02-02 15:15:00  28.489948  464.760417  1101.779167        1.0   \n",
              "\n",
              "   Temperature  \n",
              "0          NaN  \n",
              "1          NaN  \n",
              "2          NaN  \n",
              "3          NaN  \n",
              "4          NaN  "
            ]
          },
          "execution_count": 61,
          "metadata": {},
          "output_type": "execute_result"
        }
      ],
      "source": [
        "# Neuen Datensatz definieren, der aus Datensatz 2 von rechts angehängt an Datensatz 1 besteht\n",
        "data = pd.concat([data1_ip, data2], axis=1)\n",
        "\n",
        "# Dort wo keine Werte für den jeweiligen Zeitstempel vorhanden sind, werden NaN eingefügt\n",
        "data.head()"
      ]
    },
    {
      "cell_type": "code",
      "execution_count": 62,
      "metadata": {
        "id": "RnHb4P4nIVWt"
      },
      "outputs": [
        {
          "data": {
            "text/html": [
              "<div>\n",
              "<style scoped>\n",
              "    .dataframe tbody tr th:only-of-type {\n",
              "        vertical-align: middle;\n",
              "    }\n",
              "\n",
              "    .dataframe tbody tr th {\n",
              "        vertical-align: top;\n",
              "    }\n",
              "\n",
              "    .dataframe thead th {\n",
              "        text-align: right;\n",
              "    }\n",
              "</style>\n",
              "<table border=\"1\" class=\"dataframe\">\n",
              "  <thead>\n",
              "    <tr style=\"text-align: right;\">\n",
              "      <th></th>\n",
              "      <th>Date</th>\n",
              "      <th>Energy</th>\n",
              "      <th>Light</th>\n",
              "      <th>CO2</th>\n",
              "      <th>Occupancy</th>\n",
              "      <th>Temperature</th>\n",
              "    </tr>\n",
              "  </thead>\n",
              "  <tbody>\n",
              "  </tbody>\n",
              "</table>\n",
              "</div>"
            ],
            "text/plain": [
              "Empty DataFrame\n",
              "Columns: [Date, Energy, Light, CO2, Occupancy, Temperature]\n",
              "Index: []"
            ]
          },
          "execution_count": 62,
          "metadata": {},
          "output_type": "execute_result"
        }
      ],
      "source": [
        "# Löschen Sie nun noch die Zeilen in denen mindestens 1x NaN vorkommt:\n",
        "data.dropna(inplace=True)\n",
        "\n",
        "# Ausgabe der ersten Zeilen von data zur Kontrolle:\n",
        "data.head()"
      ]
    },
    {
      "cell_type": "markdown",
      "metadata": {
        "id": "gV8uMR8tIVWt"
      },
      "source": [
        "## Möglichkeit 2: \n",
        "- Datensatz 1 soll von 15minüten auf stündliche Werte runtergesampelt werden\n",
        "- Für die Spalten Light und CO2 soll dazu der stündliche Mittelwert genommen werden\n",
        "- Für die Spalte Energy soll dazu jeweils die Summe über die 4 Werte in einer Stunde gebildet werden\n",
        "- Für die Spalte Occupancy soll einfach der Wert zur vollen Stunde genommen werden"
      ]
    },
    {
      "cell_type": "code",
      "execution_count": 63,
      "metadata": {
        "colab": {
          "base_uri": "https://localhost:8080/",
          "height": 186
        },
        "id": "vmMYDS3JIVWt",
        "outputId": "5d6e1c27-3e3c-441c-fa8c-a5fd400974c8"
      },
      "outputs": [
        {
          "data": {
            "text/html": [
              "<div>\n",
              "<style scoped>\n",
              "    .dataframe tbody tr th:only-of-type {\n",
              "        vertical-align: middle;\n",
              "    }\n",
              "\n",
              "    .dataframe tbody tr th {\n",
              "        vertical-align: top;\n",
              "    }\n",
              "\n",
              "    .dataframe thead th {\n",
              "        text-align: right;\n",
              "    }\n",
              "</style>\n",
              "<table border=\"1\" class=\"dataframe\">\n",
              "  <thead>\n",
              "    <tr style=\"text-align: right;\">\n",
              "      <th></th>\n",
              "      <th>Date</th>\n",
              "      <th>Energy</th>\n",
              "      <th>Light</th>\n",
              "      <th>CO2</th>\n",
              "      <th>Occupancy</th>\n",
              "    </tr>\n",
              "  </thead>\n",
              "  <tbody>\n",
              "    <tr>\n",
              "      <th>0</th>\n",
              "      <td>2015-02-02 14:15:00</td>\n",
              "      <td>26.285636</td>\n",
              "      <td>527.283333</td>\n",
              "      <td>785.951515</td>\n",
              "      <td>1.0</td>\n",
              "    </tr>\n",
              "    <tr>\n",
              "      <th>1</th>\n",
              "      <td>2015-02-02 14:30:00</td>\n",
              "      <td>27.016313</td>\n",
              "      <td>481.697917</td>\n",
              "      <td>894.539583</td>\n",
              "      <td>1.0</td>\n",
              "    </tr>\n",
              "    <tr>\n",
              "      <th>2</th>\n",
              "      <td>2015-02-02 14:45:00</td>\n",
              "      <td>27.612107</td>\n",
              "      <td>499.415646</td>\n",
              "      <td>992.291327</td>\n",
              "      <td>1.0</td>\n",
              "    </tr>\n",
              "    <tr>\n",
              "      <th>3</th>\n",
              "      <td>2015-02-02 15:00:00</td>\n",
              "      <td>28.006019</td>\n",
              "      <td>456.436190</td>\n",
              "      <td>1051.151905</td>\n",
              "      <td>1.0</td>\n",
              "    </tr>\n",
              "    <tr>\n",
              "      <th>4</th>\n",
              "      <td>2015-02-02 15:15:00</td>\n",
              "      <td>28.489948</td>\n",
              "      <td>464.760417</td>\n",
              "      <td>1101.779167</td>\n",
              "      <td>1.0</td>\n",
              "    </tr>\n",
              "  </tbody>\n",
              "</table>\n",
              "</div>"
            ],
            "text/plain": [
              "                 Date     Energy       Light          CO2  Occupancy\n",
              "0 2015-02-02 14:15:00  26.285636  527.283333   785.951515        1.0\n",
              "1 2015-02-02 14:30:00  27.016313  481.697917   894.539583        1.0\n",
              "2 2015-02-02 14:45:00  27.612107  499.415646   992.291327        1.0\n",
              "3 2015-02-02 15:00:00  28.006019  456.436190  1051.151905        1.0\n",
              "4 2015-02-02 15:15:00  28.489948  464.760417  1101.779167        1.0"
            ]
          },
          "execution_count": 63,
          "metadata": {},
          "output_type": "execute_result"
        }
      ],
      "source": [
        "# Ursprünglicher Datensatz\n",
        "data1_ip.head()"
      ]
    },
    {
      "cell_type": "code",
      "execution_count": 64,
      "metadata": {
        "colab": {
          "base_uri": "https://localhost:8080/",
          "height": 237
        },
        "id": "KWkSg200IVWt",
        "outputId": "13f0e088-de16-494a-81b9-520ef7e7369f"
      },
      "outputs": [
        {
          "data": {
            "text/html": [
              "<div>\n",
              "<style scoped>\n",
              "    .dataframe tbody tr th:only-of-type {\n",
              "        vertical-align: middle;\n",
              "    }\n",
              "\n",
              "    .dataframe tbody tr th {\n",
              "        vertical-align: top;\n",
              "    }\n",
              "\n",
              "    .dataframe thead th {\n",
              "        text-align: right;\n",
              "    }\n",
              "</style>\n",
              "<table border=\"1\" class=\"dataframe\">\n",
              "  <thead>\n",
              "    <tr style=\"text-align: right;\">\n",
              "      <th></th>\n",
              "      <th>Date</th>\n",
              "      <th>Light</th>\n",
              "      <th>CO2</th>\n",
              "    </tr>\n",
              "  </thead>\n",
              "  <tbody>\n",
              "    <tr>\n",
              "      <th>0</th>\n",
              "      <td>2015-02-02 14:15:00</td>\n",
              "      <td>527.283333</td>\n",
              "      <td>785.951515</td>\n",
              "    </tr>\n",
              "    <tr>\n",
              "      <th>1</th>\n",
              "      <td>2015-02-02 14:30:00</td>\n",
              "      <td>481.697917</td>\n",
              "      <td>894.539583</td>\n",
              "    </tr>\n",
              "    <tr>\n",
              "      <th>2</th>\n",
              "      <td>2015-02-02 14:45:00</td>\n",
              "      <td>499.415646</td>\n",
              "      <td>992.291327</td>\n",
              "    </tr>\n",
              "    <tr>\n",
              "      <th>3</th>\n",
              "      <td>2015-02-02 15:00:00</td>\n",
              "      <td>456.436190</td>\n",
              "      <td>1051.151905</td>\n",
              "    </tr>\n",
              "    <tr>\n",
              "      <th>4</th>\n",
              "      <td>2015-02-02 15:15:00</td>\n",
              "      <td>464.760417</td>\n",
              "      <td>1101.779167</td>\n",
              "    </tr>\n",
              "  </tbody>\n",
              "</table>\n",
              "</div>"
            ],
            "text/plain": [
              "                 Date       Light          CO2\n",
              "0 2015-02-02 14:15:00  527.283333   785.951515\n",
              "1 2015-02-02 14:30:00  481.697917   894.539583\n",
              "2 2015-02-02 14:45:00  499.415646   992.291327\n",
              "3 2015-02-02 15:00:00  456.436190  1051.151905\n",
              "4 2015-02-02 15:15:00  464.760417  1101.779167"
            ]
          },
          "execution_count": 64,
          "metadata": {},
          "output_type": "execute_result"
        }
      ],
      "source": [
        "# Ursprünglichen Datensatz aufteilen\n",
        "\n",
        "# nur die Spalten, die gemittelt werden sollen \n",
        "data1_mean = data1_ip.copy()\n",
        "data1_mean.drop(['Energy', 'Occupancy'], axis=1, inplace=True)\n",
        "data1_mean.head()"
      ]
    },
    {
      "cell_type": "code",
      "execution_count": 65,
      "metadata": {
        "id": "XgE2LujPIVWt"
      },
      "outputs": [
        {
          "data": {
            "text/html": [
              "<div>\n",
              "<style scoped>\n",
              "    .dataframe tbody tr th:only-of-type {\n",
              "        vertical-align: middle;\n",
              "    }\n",
              "\n",
              "    .dataframe tbody tr th {\n",
              "        vertical-align: top;\n",
              "    }\n",
              "\n",
              "    .dataframe thead th {\n",
              "        text-align: right;\n",
              "    }\n",
              "</style>\n",
              "<table border=\"1\" class=\"dataframe\">\n",
              "  <thead>\n",
              "    <tr style=\"text-align: right;\">\n",
              "      <th></th>\n",
              "      <th>Date</th>\n",
              "      <th>Energy</th>\n",
              "    </tr>\n",
              "  </thead>\n",
              "  <tbody>\n",
              "    <tr>\n",
              "      <th>0</th>\n",
              "      <td>2015-02-02 14:15:00</td>\n",
              "      <td>26.285636</td>\n",
              "    </tr>\n",
              "    <tr>\n",
              "      <th>1</th>\n",
              "      <td>2015-02-02 14:30:00</td>\n",
              "      <td>27.016313</td>\n",
              "    </tr>\n",
              "    <tr>\n",
              "      <th>2</th>\n",
              "      <td>2015-02-02 14:45:00</td>\n",
              "      <td>27.612107</td>\n",
              "    </tr>\n",
              "    <tr>\n",
              "      <th>3</th>\n",
              "      <td>2015-02-02 15:00:00</td>\n",
              "      <td>28.006019</td>\n",
              "    </tr>\n",
              "    <tr>\n",
              "      <th>4</th>\n",
              "      <td>2015-02-02 15:15:00</td>\n",
              "      <td>28.489948</td>\n",
              "    </tr>\n",
              "  </tbody>\n",
              "</table>\n",
              "</div>"
            ],
            "text/plain": [
              "                 Date     Energy\n",
              "0 2015-02-02 14:15:00  26.285636\n",
              "1 2015-02-02 14:30:00  27.016313\n",
              "2 2015-02-02 14:45:00  27.612107\n",
              "3 2015-02-02 15:00:00  28.006019\n",
              "4 2015-02-02 15:15:00  28.489948"
            ]
          },
          "execution_count": 65,
          "metadata": {},
          "output_type": "execute_result"
        }
      ],
      "source": [
        "# Generieren Sie einen Datensatz data1_sum, der nur die Spalten enthält, die summiert werden sollen\n",
        "data1_sum = data1_ip.copy()\n",
        "data1_sum.drop([\"Light\", \"CO2\", \"Occupancy\"], axis=1, inplace=True)\n",
        "data1_sum.head()"
      ]
    },
    {
      "cell_type": "code",
      "execution_count": 66,
      "metadata": {
        "id": "1Vmf8xERIVWu"
      },
      "outputs": [
        {
          "data": {
            "text/plain": [
              "0    1.0\n",
              "1    1.0\n",
              "2    1.0\n",
              "3    1.0\n",
              "4    1.0\n",
              "Name: Occupancy, dtype: float64"
            ]
          },
          "execution_count": 66,
          "metadata": {},
          "output_type": "execute_result"
        }
      ],
      "source": [
        "# Generieren Sie einen Datensatz data1_binary, der nur die Spalten enthält, die weder gemittelt noch aufsummiert werden sollen\n",
        "data1_binary = data1_ip[\"Occupancy\"].copy()\n",
        "data1_binary.head()"
      ]
    },
    {
      "cell_type": "code",
      "execution_count": 67,
      "metadata": {
        "id": "IxEBdUbcIVWu"
      },
      "outputs": [
        {
          "ename": "TypeError",
          "evalue": "Only valid with DatetimeIndex, TimedeltaIndex or PeriodIndex, but got an instance of 'RangeIndex'",
          "output_type": "error",
          "traceback": [
            "\u001b[1;31m---------------------------------------------------------------------------\u001b[0m",
            "\u001b[1;31mTypeError\u001b[0m                                 Traceback (most recent call last)",
            "\u001b[1;32ms:\\Dateien\\localProjects\\ada_praktikum\\manuel\\HandsOnPython_03_GrundlagenDatenaufbereitung.ipynb Cell 50\u001b[0m line \u001b[0;36m2\n\u001b[0;32m      <a href='vscode-notebook-cell:/s%3A/Dateien/localProjects/ada_praktikum/manuel/HandsOnPython_03_GrundlagenDatenaufbereitung.ipynb#Y100sZmlsZQ%3D%3D?line=0'>1</a>\u001b[0m \u001b[39m# Bringen Sie den Datensatz data1_mean durch Mittelwertbildung auf eine höhere Frequenz (stündlich):\u001b[39;00m\n\u001b[1;32m----> <a href='vscode-notebook-cell:/s%3A/Dateien/localProjects/ada_praktikum/manuel/HandsOnPython_03_GrundlagenDatenaufbereitung.ipynb#Y100sZmlsZQ%3D%3D?line=1'>2</a>\u001b[0m data1_mean \u001b[39m=\u001b[39m data1_mean\u001b[39m.\u001b[39mresample(\u001b[39m\"\u001b[39m\u001b[39mH\u001b[39m\u001b[39m\"\u001b[39m)\u001b[39m.\u001b[39mmean()\n\u001b[0;32m      <a href='vscode-notebook-cell:/s%3A/Dateien/localProjects/ada_praktikum/manuel/HandsOnPython_03_GrundlagenDatenaufbereitung.ipynb#Y100sZmlsZQ%3D%3D?line=3'>4</a>\u001b[0m \u001b[39m# Lassen Sie sich zur Kontrolle die ersten Zeilen ausgeben:\u001b[39;00m\n\u001b[0;32m      <a href='vscode-notebook-cell:/s%3A/Dateien/localProjects/ada_praktikum/manuel/HandsOnPython_03_GrundlagenDatenaufbereitung.ipynb#Y100sZmlsZQ%3D%3D?line=4'>5</a>\u001b[0m data1_mean\u001b[39m.\u001b[39mhead()\n",
            "File \u001b[1;32mc:\\Users\\manue\\anaconda3\\Lib\\site-packages\\pandas\\core\\frame.py:11392\u001b[0m, in \u001b[0;36mDataFrame.resample\u001b[1;34m(self, rule, axis, closed, label, convention, kind, loffset, base, on, level, origin, offset, group_keys)\u001b[0m\n\u001b[0;32m  11375\u001b[0m \u001b[39m@doc\u001b[39m(NDFrame\u001b[39m.\u001b[39mresample, \u001b[39m*\u001b[39m\u001b[39m*\u001b[39m_shared_doc_kwargs)\n\u001b[0;32m  11376\u001b[0m \u001b[39mdef\u001b[39;00m \u001b[39mresample\u001b[39m(\n\u001b[0;32m  11377\u001b[0m     \u001b[39mself\u001b[39m,\n\u001b[1;32m   (...)\u001b[0m\n\u001b[0;32m  11390\u001b[0m     group_keys: \u001b[39mbool\u001b[39m \u001b[39m|\u001b[39m lib\u001b[39m.\u001b[39mNoDefault \u001b[39m=\u001b[39m no_default,\n\u001b[0;32m  11391\u001b[0m ) \u001b[39m-\u001b[39m\u001b[39m>\u001b[39m Resampler:\n\u001b[1;32m> 11392\u001b[0m     \u001b[39mreturn\u001b[39;00m \u001b[39msuper\u001b[39m()\u001b[39m.\u001b[39mresample(\n\u001b[0;32m  11393\u001b[0m         rule\u001b[39m=\u001b[39mrule,\n\u001b[0;32m  11394\u001b[0m         axis\u001b[39m=\u001b[39maxis,\n\u001b[0;32m  11395\u001b[0m         closed\u001b[39m=\u001b[39mclosed,\n\u001b[0;32m  11396\u001b[0m         label\u001b[39m=\u001b[39mlabel,\n\u001b[0;32m  11397\u001b[0m         convention\u001b[39m=\u001b[39mconvention,\n\u001b[0;32m  11398\u001b[0m         kind\u001b[39m=\u001b[39mkind,\n\u001b[0;32m  11399\u001b[0m         loffset\u001b[39m=\u001b[39mloffset,\n\u001b[0;32m  11400\u001b[0m         base\u001b[39m=\u001b[39mbase,\n\u001b[0;32m  11401\u001b[0m         on\u001b[39m=\u001b[39mon,\n\u001b[0;32m  11402\u001b[0m         level\u001b[39m=\u001b[39mlevel,\n\u001b[0;32m  11403\u001b[0m         origin\u001b[39m=\u001b[39morigin,\n\u001b[0;32m  11404\u001b[0m         offset\u001b[39m=\u001b[39moffset,\n\u001b[0;32m  11405\u001b[0m         group_keys\u001b[39m=\u001b[39mgroup_keys,\n\u001b[0;32m  11406\u001b[0m     )\n",
            "File \u001b[1;32mc:\\Users\\manue\\anaconda3\\Lib\\site-packages\\pandas\\core\\generic.py:8858\u001b[0m, in \u001b[0;36mNDFrame.resample\u001b[1;34m(self, rule, axis, closed, label, convention, kind, loffset, base, on, level, origin, offset, group_keys)\u001b[0m\n\u001b[0;32m   8855\u001b[0m \u001b[39mfrom\u001b[39;00m \u001b[39mpandas\u001b[39;00m\u001b[39m.\u001b[39;00m\u001b[39mcore\u001b[39;00m\u001b[39m.\u001b[39;00m\u001b[39mresample\u001b[39;00m \u001b[39mimport\u001b[39;00m get_resampler\n\u001b[0;32m   8857\u001b[0m axis \u001b[39m=\u001b[39m \u001b[39mself\u001b[39m\u001b[39m.\u001b[39m_get_axis_number(axis)\n\u001b[1;32m-> 8858\u001b[0m \u001b[39mreturn\u001b[39;00m get_resampler(\n\u001b[0;32m   8859\u001b[0m     \u001b[39mself\u001b[39m,\n\u001b[0;32m   8860\u001b[0m     freq\u001b[39m=\u001b[39mrule,\n\u001b[0;32m   8861\u001b[0m     label\u001b[39m=\u001b[39mlabel,\n\u001b[0;32m   8862\u001b[0m     closed\u001b[39m=\u001b[39mclosed,\n\u001b[0;32m   8863\u001b[0m     axis\u001b[39m=\u001b[39maxis,\n\u001b[0;32m   8864\u001b[0m     kind\u001b[39m=\u001b[39mkind,\n\u001b[0;32m   8865\u001b[0m     loffset\u001b[39m=\u001b[39mloffset,\n\u001b[0;32m   8866\u001b[0m     convention\u001b[39m=\u001b[39mconvention,\n\u001b[0;32m   8867\u001b[0m     base\u001b[39m=\u001b[39mbase,\n\u001b[0;32m   8868\u001b[0m     key\u001b[39m=\u001b[39mon,\n\u001b[0;32m   8869\u001b[0m     level\u001b[39m=\u001b[39mlevel,\n\u001b[0;32m   8870\u001b[0m     origin\u001b[39m=\u001b[39morigin,\n\u001b[0;32m   8871\u001b[0m     offset\u001b[39m=\u001b[39moffset,\n\u001b[0;32m   8872\u001b[0m     group_keys\u001b[39m=\u001b[39mgroup_keys,\n\u001b[0;32m   8873\u001b[0m )\n",
            "File \u001b[1;32mc:\\Users\\manue\\anaconda3\\Lib\\site-packages\\pandas\\core\\resample.py:1544\u001b[0m, in \u001b[0;36mget_resampler\u001b[1;34m(obj, kind, **kwds)\u001b[0m\n\u001b[0;32m   1540\u001b[0m \u001b[39m\u001b[39m\u001b[39m\"\"\"\u001b[39;00m\n\u001b[0;32m   1541\u001b[0m \u001b[39mCreate a TimeGrouper and return our resampler.\u001b[39;00m\n\u001b[0;32m   1542\u001b[0m \u001b[39m\"\"\"\u001b[39;00m\n\u001b[0;32m   1543\u001b[0m tg \u001b[39m=\u001b[39m TimeGrouper(\u001b[39m*\u001b[39m\u001b[39m*\u001b[39mkwds)\n\u001b[1;32m-> 1544\u001b[0m \u001b[39mreturn\u001b[39;00m tg\u001b[39m.\u001b[39m_get_resampler(obj, kind\u001b[39m=\u001b[39mkind)\n",
            "File \u001b[1;32mc:\\Users\\manue\\anaconda3\\Lib\\site-packages\\pandas\\core\\resample.py:1725\u001b[0m, in \u001b[0;36mTimeGrouper._get_resampler\u001b[1;34m(self, obj, kind)\u001b[0m\n\u001b[0;32m   1720\u001b[0m \u001b[39melif\u001b[39;00m \u001b[39misinstance\u001b[39m(ax, TimedeltaIndex):\n\u001b[0;32m   1721\u001b[0m     \u001b[39mreturn\u001b[39;00m TimedeltaIndexResampler(\n\u001b[0;32m   1722\u001b[0m         obj, groupby\u001b[39m=\u001b[39m\u001b[39mself\u001b[39m, axis\u001b[39m=\u001b[39m\u001b[39mself\u001b[39m\u001b[39m.\u001b[39maxis, group_keys\u001b[39m=\u001b[39m\u001b[39mself\u001b[39m\u001b[39m.\u001b[39mgroup_keys\n\u001b[0;32m   1723\u001b[0m     )\n\u001b[1;32m-> 1725\u001b[0m \u001b[39mraise\u001b[39;00m \u001b[39mTypeError\u001b[39;00m(\n\u001b[0;32m   1726\u001b[0m     \u001b[39m\"\u001b[39m\u001b[39mOnly valid with DatetimeIndex, \u001b[39m\u001b[39m\"\u001b[39m\n\u001b[0;32m   1727\u001b[0m     \u001b[39m\"\u001b[39m\u001b[39mTimedeltaIndex or PeriodIndex, \u001b[39m\u001b[39m\"\u001b[39m\n\u001b[0;32m   1728\u001b[0m     \u001b[39mf\u001b[39m\u001b[39m\"\u001b[39m\u001b[39mbut got an instance of \u001b[39m\u001b[39m'\u001b[39m\u001b[39m{\u001b[39;00m\u001b[39mtype\u001b[39m(ax)\u001b[39m.\u001b[39m\u001b[39m__name__\u001b[39m\u001b[39m}\u001b[39;00m\u001b[39m'\u001b[39m\u001b[39m\"\u001b[39m\n\u001b[0;32m   1729\u001b[0m )\n",
            "\u001b[1;31mTypeError\u001b[0m: Only valid with DatetimeIndex, TimedeltaIndex or PeriodIndex, but got an instance of 'RangeIndex'"
          ]
        }
      ],
      "source": [
        "# Bringen Sie den Datensatz data1_mean durch Mittelwertbildung auf eine höhere Frequenz (stündlich):\n",
        "data1_mean = data1_mean.resample(\"H\").mean()\n",
        "\n",
        "# Lassen Sie sich zur Kontrolle die ersten Zeilen ausgeben:\n",
        "data1_mean.head()"
      ]
    },
    {
      "cell_type": "code",
      "execution_count": null,
      "metadata": {
        "id": "dWHYTwA0IVWv"
      },
      "outputs": [
        {
          "data": {
            "text/html": [
              "<div>\n",
              "<style scoped>\n",
              "    .dataframe tbody tr th:only-of-type {\n",
              "        vertical-align: middle;\n",
              "    }\n",
              "\n",
              "    .dataframe tbody tr th {\n",
              "        vertical-align: top;\n",
              "    }\n",
              "\n",
              "    .dataframe thead th {\n",
              "        text-align: right;\n",
              "    }\n",
              "</style>\n",
              "<table border=\"1\" class=\"dataframe\">\n",
              "  <thead>\n",
              "    <tr style=\"text-align: right;\">\n",
              "      <th></th>\n",
              "      <th>Energy</th>\n",
              "    </tr>\n",
              "    <tr>\n",
              "      <th>Date</th>\n",
              "      <th></th>\n",
              "    </tr>\n",
              "  </thead>\n",
              "  <tbody>\n",
              "    <tr>\n",
              "      <th>2015-02-02 14:00:00</th>\n",
              "      <td>80.914056</td>\n",
              "    </tr>\n",
              "    <tr>\n",
              "      <th>2015-02-02 15:00:00</th>\n",
              "      <td>113.657907</td>\n",
              "    </tr>\n",
              "    <tr>\n",
              "      <th>2015-02-02 16:00:00</th>\n",
              "      <td>106.986065</td>\n",
              "    </tr>\n",
              "    <tr>\n",
              "      <th>2015-02-02 17:00:00</th>\n",
              "      <td>99.873477</td>\n",
              "    </tr>\n",
              "    <tr>\n",
              "      <th>2015-02-02 18:00:00</th>\n",
              "      <td>98.368227</td>\n",
              "    </tr>\n",
              "  </tbody>\n",
              "</table>\n",
              "</div>"
            ],
            "text/plain": [
              "                         Energy\n",
              "Date                           \n",
              "2015-02-02 14:00:00   80.914056\n",
              "2015-02-02 15:00:00  113.657907\n",
              "2015-02-02 16:00:00  106.986065\n",
              "2015-02-02 17:00:00   99.873477\n",
              "2015-02-02 18:00:00   98.368227"
            ]
          },
          "execution_count": 98,
          "metadata": {},
          "output_type": "execute_result"
        }
      ],
      "source": [
        "# Bringen Sie data1_sum durch Summenbildung auf eine höhere Frequenz (stündlich). (statt .mean() verwenden Sie .sum())\n",
        "data1_sum = data1_sum.resample(\"H\").sum()\n",
        "\n",
        "# Ausgabe der ersten Zeilen zur Kontrolle:\n",
        "data1_sum.head()"
      ]
    },
    {
      "cell_type": "code",
      "execution_count": null,
      "metadata": {
        "id": "QYSOso6jIVWv"
      },
      "outputs": [
        {
          "ename": "NameError",
          "evalue": "name 'data1_binary' is not defined",
          "output_type": "error",
          "traceback": [
            "\u001b[1;31m---------------------------------------------------------------------------\u001b[0m",
            "\u001b[1;31mNameError\u001b[0m                                 Traceback (most recent call last)",
            "\u001b[1;32ms:\\Dateien\\localProjects\\ada_praktikum\\manuel\\HandsOnPython_03_GrundlagenDatenaufbereitung.ipynb Cell 52\u001b[0m line \u001b[0;36m3\n\u001b[0;32m      <a href='vscode-notebook-cell:/s%3A/Dateien/localProjects/ada_praktikum/manuel/HandsOnPython_03_GrundlagenDatenaufbereitung.ipynb#Y102sZmlsZQ%3D%3D?line=0'>1</a>\u001b[0m \u001b[39m# Bringen Sie den Datensatz data1_binary auf eine höhere Frequenz (stündlich). \u001b[39;00m\n\u001b[0;32m      <a href='vscode-notebook-cell:/s%3A/Dateien/localProjects/ada_praktikum/manuel/HandsOnPython_03_GrundlagenDatenaufbereitung.ipynb#Y102sZmlsZQ%3D%3D?line=1'>2</a>\u001b[0m \u001b[39m# Dafür soll immer der Wert des Merkmals Occupancy zu vollen Stunde genommen werden, die anderen Werte sollen verworfen werden. \u001b[39;00m\n\u001b[1;32m----> <a href='vscode-notebook-cell:/s%3A/Dateien/localProjects/ada_praktikum/manuel/HandsOnPython_03_GrundlagenDatenaufbereitung.ipynb#Y102sZmlsZQ%3D%3D?line=2'>3</a>\u001b[0m data1_binary \u001b[39m=\u001b[39m data1_binary\u001b[39m.\u001b[39mresample(\u001b[39m\"\u001b[39m\u001b[39mH\u001b[39m\u001b[39m\"\u001b[39m)\u001b[39m.\u001b[39masfreq()\n\u001b[0;32m      <a href='vscode-notebook-cell:/s%3A/Dateien/localProjects/ada_praktikum/manuel/HandsOnPython_03_GrundlagenDatenaufbereitung.ipynb#Y102sZmlsZQ%3D%3D?line=4'>5</a>\u001b[0m \u001b[39m# Ausgabe der ersten Zeilen zur Kontrolle:\u001b[39;00m\n\u001b[0;32m      <a href='vscode-notebook-cell:/s%3A/Dateien/localProjects/ada_praktikum/manuel/HandsOnPython_03_GrundlagenDatenaufbereitung.ipynb#Y102sZmlsZQ%3D%3D?line=5'>6</a>\u001b[0m data1_binary\u001b[39m.\u001b[39mhead()\n",
            "\u001b[1;31mNameError\u001b[0m: name 'data1_binary' is not defined"
          ]
        }
      ],
      "source": [
        "# Bringen Sie den Datensatz data1_binary auf eine höhere Frequenz (stündlich). \n",
        "# Dafür soll immer der Wert des Merkmals Occupancy zu vollen Stunde genommen werden, die anderen Werte sollen verworfen werden. \n",
        "data1_binary = data1_binary.resample(\"H\").first()\n",
        "\n",
        "# Ausgabe der ersten Zeilen zur Kontrolle:\n",
        "data1_binary.head()\n"
      ]
    },
    {
      "cell_type": "code",
      "execution_count": null,
      "metadata": {
        "colab": {
          "base_uri": "https://localhost:8080/",
          "height": 237
        },
        "id": "tUr7_65mIVWw",
        "outputId": "f4e2c0eb-7ab6-41d8-9542-02711e05a3fc"
      },
      "outputs": [
        {
          "data": {
            "text/html": [
              "<div>\n",
              "<style scoped>\n",
              "    .dataframe tbody tr th:only-of-type {\n",
              "        vertical-align: middle;\n",
              "    }\n",
              "\n",
              "    .dataframe tbody tr th {\n",
              "        vertical-align: top;\n",
              "    }\n",
              "\n",
              "    .dataframe thead th {\n",
              "        text-align: right;\n",
              "    }\n",
              "</style>\n",
              "<table border=\"1\" class=\"dataframe\">\n",
              "  <thead>\n",
              "    <tr style=\"text-align: right;\">\n",
              "      <th></th>\n",
              "      <th>Temperature</th>\n",
              "      <th>Energy</th>\n",
              "      <th>Light</th>\n",
              "      <th>CO2</th>\n",
              "      <th>Occupancy</th>\n",
              "    </tr>\n",
              "    <tr>\n",
              "      <th>Date</th>\n",
              "      <th></th>\n",
              "      <th></th>\n",
              "      <th></th>\n",
              "      <th></th>\n",
              "      <th></th>\n",
              "    </tr>\n",
              "  </thead>\n",
              "  <tbody>\n",
              "    <tr>\n",
              "      <th>2015-02-02 14:00:00</th>\n",
              "      <td>23.657118</td>\n",
              "      <td>80.914056</td>\n",
              "      <td>502.798965</td>\n",
              "      <td>890.927475</td>\n",
              "      <td>NaN</td>\n",
              "    </tr>\n",
              "    <tr>\n",
              "      <th>2015-02-02 15:00:00</th>\n",
              "      <td>23.293950</td>\n",
              "      <td>113.657907</td>\n",
              "      <td>456.677902</td>\n",
              "      <td>1103.590327</td>\n",
              "      <td>1.0</td>\n",
              "    </tr>\n",
              "    <tr>\n",
              "      <th>2015-02-02 16:00:00</th>\n",
              "      <td>22.773142</td>\n",
              "      <td>106.986065</td>\n",
              "      <td>434.929193</td>\n",
              "      <td>980.338952</td>\n",
              "      <td>1.0</td>\n",
              "    </tr>\n",
              "    <tr>\n",
              "      <th>2015-02-02 17:00:00</th>\n",
              "      <td>22.534520</td>\n",
              "      <td>99.873477</td>\n",
              "      <td>426.717991</td>\n",
              "      <td>821.892560</td>\n",
              "      <td>1.0</td>\n",
              "    </tr>\n",
              "    <tr>\n",
              "      <th>2015-02-02 18:00:00</th>\n",
              "      <td>21.993372</td>\n",
              "      <td>98.368227</td>\n",
              "      <td>32.984167</td>\n",
              "      <td>719.712031</td>\n",
              "      <td>0.0</td>\n",
              "    </tr>\n",
              "  </tbody>\n",
              "</table>\n",
              "</div>"
            ],
            "text/plain": [
              "                     Temperature      Energy       Light          CO2  \\\n",
              "Date                                                                    \n",
              "2015-02-02 14:00:00    23.657118   80.914056  502.798965   890.927475   \n",
              "2015-02-02 15:00:00    23.293950  113.657907  456.677902  1103.590327   \n",
              "2015-02-02 16:00:00    22.773142  106.986065  434.929193   980.338952   \n",
              "2015-02-02 17:00:00    22.534520   99.873477  426.717991   821.892560   \n",
              "2015-02-02 18:00:00    21.993372   98.368227   32.984167   719.712031   \n",
              "\n",
              "                     Occupancy  \n",
              "Date                            \n",
              "2015-02-02 14:00:00        NaN  \n",
              "2015-02-02 15:00:00        1.0  \n",
              "2015-02-02 16:00:00        1.0  \n",
              "2015-02-02 17:00:00        1.0  \n",
              "2015-02-02 18:00:00        0.0  "
            ]
          },
          "execution_count": 105,
          "metadata": {},
          "output_type": "execute_result"
        }
      ],
      "source": [
        "# Daten zusammenfügen\n",
        "data = pd.concat([data2, data1_sum, data1_mean, data1_binary], axis=1)\n",
        "\n",
        "data.head()"
      ]
    },
    {
      "cell_type": "code",
      "execution_count": null,
      "metadata": {
        "id": "fhXf3j4TIVWw"
      },
      "outputs": [],
      "source": [
        "# Entfernen von Zeilen mit mind. 1x NaN falls vorhanden:\n",
        "data.dropna(inplace=True)"
      ]
    },
    {
      "cell_type": "code",
      "execution_count": null,
      "metadata": {
        "colab": {
          "base_uri": "https://localhost:8080/",
          "height": 237
        },
        "id": "9XOd0ZFXIVWw",
        "outputId": "a0471306-3557-40b4-aa9f-8dd18549a15c"
      },
      "outputs": [
        {
          "data": {
            "text/html": [
              "<div>\n",
              "<style scoped>\n",
              "    .dataframe tbody tr th:only-of-type {\n",
              "        vertical-align: middle;\n",
              "    }\n",
              "\n",
              "    .dataframe tbody tr th {\n",
              "        vertical-align: top;\n",
              "    }\n",
              "\n",
              "    .dataframe thead th {\n",
              "        text-align: right;\n",
              "    }\n",
              "</style>\n",
              "<table border=\"1\" class=\"dataframe\">\n",
              "  <thead>\n",
              "    <tr style=\"text-align: right;\">\n",
              "      <th></th>\n",
              "      <th>Temperature</th>\n",
              "      <th>Energy</th>\n",
              "      <th>Light</th>\n",
              "      <th>CO2</th>\n",
              "      <th>Occupancy</th>\n",
              "    </tr>\n",
              "    <tr>\n",
              "      <th>Date</th>\n",
              "      <th></th>\n",
              "      <th></th>\n",
              "      <th></th>\n",
              "      <th></th>\n",
              "      <th></th>\n",
              "    </tr>\n",
              "  </thead>\n",
              "  <tbody>\n",
              "    <tr>\n",
              "      <th>2015-02-02 15:00:00</th>\n",
              "      <td>23.293950</td>\n",
              "      <td>113.657907</td>\n",
              "      <td>456.677902</td>\n",
              "      <td>1103.590327</td>\n",
              "      <td>1.0</td>\n",
              "    </tr>\n",
              "    <tr>\n",
              "      <th>2015-02-02 16:00:00</th>\n",
              "      <td>22.773142</td>\n",
              "      <td>106.986065</td>\n",
              "      <td>434.929193</td>\n",
              "      <td>980.338952</td>\n",
              "      <td>1.0</td>\n",
              "    </tr>\n",
              "    <tr>\n",
              "      <th>2015-02-02 17:00:00</th>\n",
              "      <td>22.534520</td>\n",
              "      <td>99.873477</td>\n",
              "      <td>426.717991</td>\n",
              "      <td>821.892560</td>\n",
              "      <td>1.0</td>\n",
              "    </tr>\n",
              "    <tr>\n",
              "      <th>2015-02-02 18:00:00</th>\n",
              "      <td>21.993372</td>\n",
              "      <td>98.368227</td>\n",
              "      <td>32.984167</td>\n",
              "      <td>719.712031</td>\n",
              "      <td>0.0</td>\n",
              "    </tr>\n",
              "    <tr>\n",
              "      <th>2015-02-02 19:00:00</th>\n",
              "      <td>21.276331</td>\n",
              "      <td>95.371880</td>\n",
              "      <td>0.000000</td>\n",
              "      <td>585.110384</td>\n",
              "      <td>0.0</td>\n",
              "    </tr>\n",
              "  </tbody>\n",
              "</table>\n",
              "</div>"
            ],
            "text/plain": [
              "                     Temperature      Energy       Light          CO2  \\\n",
              "Date                                                                    \n",
              "2015-02-02 15:00:00    23.293950  113.657907  456.677902  1103.590327   \n",
              "2015-02-02 16:00:00    22.773142  106.986065  434.929193   980.338952   \n",
              "2015-02-02 17:00:00    22.534520   99.873477  426.717991   821.892560   \n",
              "2015-02-02 18:00:00    21.993372   98.368227   32.984167   719.712031   \n",
              "2015-02-02 19:00:00    21.276331   95.371880    0.000000   585.110384   \n",
              "\n",
              "                     Occupancy  \n",
              "Date                            \n",
              "2015-02-02 15:00:00        1.0  \n",
              "2015-02-02 16:00:00        1.0  \n",
              "2015-02-02 17:00:00        1.0  \n",
              "2015-02-02 18:00:00        0.0  \n",
              "2015-02-02 19:00:00        0.0  "
            ]
          },
          "execution_count": 107,
          "metadata": {},
          "output_type": "execute_result"
        }
      ],
      "source": [
        "# Ausgabe der ersten Zeilen von data\n",
        "data.head()"
      ]
    },
    {
      "cell_type": "code",
      "execution_count": null,
      "metadata": {
        "colab": {
          "base_uri": "https://localhost:8080/"
        },
        "id": "iwufel7hIVWw",
        "outputId": "994e9b5e-cdf6-4d16-da6c-564066d58463"
      },
      "outputs": [
        {
          "data": {
            "text/plain": [
              "Temperature    0\n",
              "Energy         0\n",
              "Light          0\n",
              "CO2            0\n",
              "Occupancy      0\n",
              "dtype: int64"
            ]
          },
          "execution_count": 108,
          "metadata": {},
          "output_type": "execute_result"
        }
      ],
      "source": [
        "# Ausgabe der Anzahl NaN in den jeweiligen Spalten\n",
        "\n",
        "data.isna().sum()"
      ]
    },
    {
      "cell_type": "code",
      "execution_count": null,
      "metadata": {
        "id": "yJdvLn6bIVWw"
      },
      "outputs": [],
      "source": []
    }
  ],
  "metadata": {
    "colab": {
      "collapsed_sections": [
        "9gM69txwIVWm"
      ],
      "name": "HandsOnPython_03_GrundlagenDatenaufbereitung.ipynb",
      "provenance": []
    },
    "kernelspec": {
      "display_name": "Python 3",
      "language": "python",
      "name": "python3"
    },
    "language_info": {
      "codemirror_mode": {
        "name": "ipython",
        "version": 3
      },
      "file_extension": ".py",
      "mimetype": "text/x-python",
      "name": "python",
      "nbconvert_exporter": "python",
      "pygments_lexer": "ipython3",
      "version": "3.11.4"
    }
  },
  "nbformat": 4,
  "nbformat_minor": 0
}
